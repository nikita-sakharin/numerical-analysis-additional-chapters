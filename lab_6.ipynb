{
 "cells": [
  {
   "cell_type": "code",
   "execution_count": null,
   "metadata": {},
   "outputs": [],
   "source": [
    "import numpy as np\n",
    "from scipy.integrate import odeint\n",
    "\n",
    "def lotka_volterra_model(y: np.ndarray, t: float,\n",
    "        alpha: float, beta: float, gamma: float, delta: float) -> np.ndarray:\n",
    "    u, v = y\n",
    "    return np.array([(alpha - beta * v) * u, (-gamma + delta * u) * v])\n",
    "\n",
    "def ode(y: np.ndarray, t: float,\n",
    "        alpha: float, beta: float, gamma: float, delta: float) -> np.ndarray:\n",
    "    (u, v, u_alpha, u_beta, u_gamma, u_delta, v_alpha, v_beta, v_gamma, v_delta\n",
    "    ) = y\n",
    "    return np.array([\n",
    "        (alpha - beta * v) * u,\n",
    "        (-gamma + delta * u) * v,\n",
    "\n",
    "        u + (alpha - beta * v) * u_alpha + (-beta * u) * v_alpha,\n",
    "        -v * u + (alpha - beta * v) * u_beta + (-beta * u) * v_beta,\n",
    "        (alpha - beta * v) * u_gamma + (-beta * u) * v_gamma,\n",
    "        (alpha - beta * v) * u_delta + (-beta * u) * v_delta,\n",
    "\n",
    "        delta * v * u_alpha + (-gamma + delta * u) * v_alpha,\n",
    "        delta * v * u_beta + (-gamma + delta * u) * v_beta,\n",
    "        -v + delta * v * u_gamma + (-gamma + delta * u) * v_gamma,\n",
    "        u * v + delta * v * u_delta + (-gamma + delta * u) * v_delta\n",
    "    ])\n",
    "\n",
    "def func(x: np.ndarray, *args: tuple) -> float:\n",
    "    t, u, v = args\n",
    "    y = odeint(lotka_volterra_model, np.array([u[0], v[0]]), t, args=tuple(x))\n",
    "    return np.sum(np.power(y[:, 0] - u, 2)) + np.sum(np.power(y[:, 1] - v, 2))\n",
    "\n",
    "def func_jac(x: np.ndarray, *args: tuple) -> np.ndarray:\n",
    "    n = len(x)\n",
    "    t, u, v = args\n",
    "    y0 = np.zeros(2 + 2 * n)\n",
    "    y0[0], y0[1] = u[0], v[0]\n",
    "    y = odeint(ode, y0=y0, t=t, args=tuple(x))\n",
    "    result = np.zeros(n)\n",
    "    for i in range(n):\n",
    "        result[i] += np.sum((y[:, 0] - u) * y[:, 2 + i])\n",
    "        result[i] += np.sum((y[:, 1] - v) * y[:, 2 + n + i])\n",
    "    result *= 2.0\n",
    "    return result"
   ]
  },
  {
   "cell_type": "code",
   "execution_count": null,
   "metadata": {},
   "outputs": [],
   "source": [
    "import matplotlib.pyplot as plt\n",
    "from scipy.optimize import minimize\n",
    "np.random.seed(4167839052)"
   ]
  },
  {
   "cell_type": "code",
   "execution_count": null,
   "metadata": {},
   "outputs": [],
   "source": [
    "start, stop, n = 0.0, 20.0, 200\n",
    "t = np.linspace(start, stop, n)\n",
    "\n",
    "alpha, beta, gamma, delta = 0.42, 0.14, 0.79, 0.17\n",
    "y0 = np.array([15.0, 10.0])\n",
    "\n",
    "sol = odeint(lotka_volterra_model, y0, t, args=(alpha, beta, gamma, delta))\n",
    "u_e = sol[:, 0]\n",
    "v_e = sol[:, 1]\n",
    "\n",
    "fig = plt.figure(figsize=(16, 9), dpi=400)\n",
    "subplot = fig.add_subplot(111, facecolor='white', title='predator-prey')\n",
    "subplot.plot(t, sol[:, 1], 'red', label='predator', linewidth=2)\n",
    "subplot.plot(t, sol[:, 0], 'green', label='prey', linewidth=2)\n",
    "\n",
    "plt.legend()\n",
    "plt.show()"
   ]
  },
  {
   "cell_type": "code",
   "execution_count": null,
   "metadata": {},
   "outputs": [],
   "source": [
    "plt.plot(sol[:, 0], sol[:, 1])\n",
    "prcnt = 0.05\n",
    "u_e += prcnt * sol[:, 0] * np.random.randn(n)\n",
    "v_e += prcnt * sol[:, 1] * np.random.randn(n)"
   ]
  },
  {
   "cell_type": "code",
   "execution_count": null,
   "metadata": {},
   "outputs": [],
   "source": [
    "for i in range(10):\n",
    "    rand_x0 = np.random.rand(4)\n",
    "    print('x0 = ', rand_x0)\n",
    "    res = minimize(fun=func, x0=rand_x0, args=(t, u_e, v_e), method='Nelder-Mead', tol=1e-3)\n",
    "    print('x = ', res.x)\n",
    "    print('err = ', res.fun)\n",
    "    print('nit = ', res.nit)\n",
    "    print()"
   ]
  },
  {
   "cell_type": "code",
   "execution_count": null,
   "metadata": {},
   "outputs": [],
   "source": [
    "for i in range(10):\n",
    "    rand_x0 = np.random.rand(4)\n",
    "    print('x0 = ', rand_x0)\n",
    "    res = minimize(fun=func, x0=rand_x0, args=(t, u_e, v_e), method='TNC', jac=func_jac)\n",
    "    print('x = ', res.x)\n",
    "    print('err = ', res.fun)\n",
    "    print('nit = ', res.nit)\n",
    "    print()"
   ]
  },
  {
   "cell_type": "code",
   "execution_count": null,
   "metadata": {},
   "outputs": [],
   "source": [
    "args = (0.41572561, 0.13543324, 0.76847345, 0.16055372)\n",
    "tn = np.linspace(0, 80, 400)\n",
    "sol_new = odeint(lotka_volterra_model, y0, t, args=args)\n",
    "\n",
    "plt.plot(sol[:, 0], sol[:, 1])\n",
    "plt.plot(sol_new[:, 0], sol_new[:, 1])"
   ]
  }
 ],
 "metadata": {
  "kernelspec": {
   "display_name": "Python 3",
   "language": "python",
   "name": "python3"
  },
  "language_info": {
   "codemirror_mode": {
    "name": "ipython",
    "version": 3
   },
   "file_extension": ".py",
   "mimetype": "text/x-python",
   "name": "python",
   "nbconvert_exporter": "python",
   "pygments_lexer": "ipython3",
   "version": "3.6.5"
  }
 },
 "nbformat": 4,
 "nbformat_minor": 5
}
