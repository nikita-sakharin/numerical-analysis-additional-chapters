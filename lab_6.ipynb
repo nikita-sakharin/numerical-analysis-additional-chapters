{
 "cells": [
  {
   "cell_type": "code",
   "execution_count": null,
   "metadata": {},
   "outputs": [],
   "source": [
    "import numpy as np\n",
    "import matplotlib.pyplot as plt\n",
    "from scipy.integrate import odeint\n",
    "from scipy.optimize import minimize"
   ]
  },
  {
   "cell_type": "code",
   "execution_count": null,
   "metadata": {},
   "outputs": [],
   "source": [
    "def LVmodel(y, t, alpha, beta, gamma, delta):\n",
    "    u, v = y\n",
    "    dydt = [(alpha-beta*v)*u, (-gamma+delta*u)*v]\n",
    "    return dydt\n",
    "\n",
    "def min_func(x, *args):\n",
    "    t = args[0]\n",
    "    u_e = args[1]\n",
    "    v_e = args[2]\n",
    "    \n",
    "    alpha = x[0]\n",
    "    beta = x[1]\n",
    "    gamma = x[2]\n",
    "    delta = x[3]\n",
    "\n",
    "    y0 = [u_e[0], v_e[0]]\n",
    "    y = odeint(LVmodel, y0, t, args=(alpha, beta, gamma, delta))\n",
    "    delta = np.sum((y[:, 0]-u_e)**2)+np.sum((y[:, 1]-v_e)**2)\n",
    "    return delta\n",
    "\n",
    "def ODE(y, t, alpha, beta, gamma, delta):\n",
    "    u, v, u_a, u_b, u_g, u_d, v_a, v_b, v_g, v_d = y\n",
    "    dydt = [\n",
    "        (alpha-beta*v)*u,\n",
    "        (-gamma+delta*u)*v,\n",
    "        \n",
    "        u+(alpha-beta*v)*u_a+(-beta*u)*v_a,\n",
    "        -v*u+(alpha-beta*v)*u_b+(-beta*u)*v_b,\n",
    "        (alpha-beta*v)*u_g+(-beta*u)*v_g,\n",
    "        (alpha-beta*v)*u_d+(-beta*u)*v_d,\n",
    "        \n",
    "        delta*v*u_a+(-gamma+delta*u)*v_a,\n",
    "        delta*v*u_b+(-gamma+delta*u)*v_b,\n",
    "        -v+delta*v*u_g+(-gamma+delta*u)*v_g,\n",
    "        u*v+delta*v*u_d+(-gamma+delta*u)*v_d,\n",
    "        ]\n",
    "    return dydt\n",
    "\n",
    "def min_func_jac(x, *args):\n",
    "    t = args[0]\n",
    "    u_e = args[1]\n",
    "    v_e = args[2]\n",
    "    \n",
    "    alpha = x[0]\n",
    "    beta = x[1]\n",
    "    gamma = x[2]\n",
    "    delta = x[3]\n",
    "    \n",
    "    theta0 = [u_e[0], v_e[0], 0, 0, 0, 0, 0, 0, 0, 0]\n",
    "\n",
    "    zzz = odeint(ODE, y0=theta0, t=t, args=(alpha, beta, gamma, delta))\n",
    "    res = np.zeros((4))\n",
    "    for i in range(0, 4):\n",
    "        res[i] += np.sum((zzz[:,0]-u_e)*zzz[:,2+i])\n",
    "        res[i] += np.sum((zzz[:,1]-v_e)*zzz[:,2+4+i])\n",
    "        res[i] *= 2\n",
    "    return res"
   ]
  },
  {
   "cell_type": "code",
   "execution_count": null,
   "metadata": {},
   "outputs": [],
   "source": [
    "ts = 0\n",
    "te = 20\n",
    "n = 200\n",
    "t = np.linspace(ts, te, n)\n",
    "\n",
    "alpha = 0.42\n",
    "beta = 0.14\n",
    "gamma = 0.79\n",
    "delta = 0.17\n",
    "\n",
    "\n",
    "y0 = [15, 10]\n",
    "\n",
    "sol = odeint(LVmodel, y0, t, args=(alpha, beta, gamma, delta))\n",
    "u_e = sol[:, 0]\n",
    "v_e = sol[:, 1]\n",
    "plt.plot(t, sol[:, 0], 'b')\n",
    "plt.plot(t, sol[:, 1], 'g')"
   ]
  },
  {
   "cell_type": "code",
   "execution_count": null,
   "metadata": {},
   "outputs": [],
   "source": [
    "plt.plot(sol[:, 0], sol[:, 1])\n",
    "prcnt = 0.05\n",
    "u_e += prcnt*sol[:, 0]*np.random.randn(n)\n",
    "v_e += prcnt*sol[:, 1]*np.random.randn(n)"
   ]
  },
  {
   "cell_type": "code",
   "execution_count": null,
   "metadata": {},
   "outputs": [],
   "source": [
    "for i in range(0, 10):\n",
    "    rand_x0 = np.random.rand(4)\n",
    "    print('x0 = ', rand_x0)\n",
    "    res = minimize(fun=min_func, x0=rand_x0, args=(t, u_e, v_e), method='Nelder-Mead', tol=1e-3)\n",
    "    print('x = ', res.x)\n",
    "    print('err = ', res.fun)\n",
    "    print('nit = ', res.nit)\n",
    "    print()"
   ]
  },
  {
   "cell_type": "code",
   "execution_count": null,
   "metadata": {},
   "outputs": [],
   "source": [
    "for i in range(0, 10):\n",
    "    rand_x0 = np.random.rand(4)\n",
    "    print('x0 = ', rand_x0)\n",
    "    res = minimize(fun=min_func, x0=rand_x0, args=(t, u_e, v_e), method='TNC', jac=min_func_jac)\n",
    "    print('x = ', res.x)\n",
    "    print('err = ', res.fun)\n",
    "    print('nit = ', res.nit)\n",
    "    print()"
   ]
  },
  {
   "cell_type": "code",
   "execution_count": null,
   "metadata": {},
   "outputs": [],
   "source": [
    "xn = [0.41572561, 0.13543324, 0.76847345, 0.16055372]\n",
    "tn = np.linspace(0, 80, 400)\n",
    "sol_new = odeint(LVmodel, y0, t, args=(xn[0], xn[1], xn[2], xn[3]))\n",
    "\n",
    "\n",
    "plt.plot(sol[:, 0], sol[:, 1])\n",
    "plt.plot(sol_new[:, 0], sol_new[:, 1])"
   ]
  }
 ],
 "metadata": {
  "kernelspec": {
   "display_name": "Python 3",
   "language": "python",
   "name": "python3"
  },
  "language_info": {
   "codemirror_mode": {
    "name": "ipython",
    "version": 3
   },
   "file_extension": ".py",
   "mimetype": "text/x-python",
   "name": "python",
   "nbconvert_exporter": "python",
   "pygments_lexer": "ipython3",
   "version": "3.6.5"
  }
 },
 "nbformat": 4,
 "nbformat_minor": 5
}
