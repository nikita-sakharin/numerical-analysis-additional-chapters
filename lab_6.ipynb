{
 "cells": [
  {
   "cell_type": "code",
   "execution_count": null,
   "metadata": {},
   "outputs": [],
   "source": [
    "!python -m pip install -r requirements.txt"
   ]
  },
  {
   "cell_type": "code",
   "execution_count": null,
   "metadata": {},
   "outputs": [],
   "source": [
    "import numpy as np\n",
    "from scipy.integrate import odeint\n",
    "\n",
    "def lotka_volterra_model(y: np.ndarray, t: float,\n",
    "        alpha: float, beta: float, gamma: float, delta: float) -> np.ndarray:\n",
    "    u, v = y\n",
    "    return np.array([(alpha - beta * v) * u, (-gamma + delta * u) * v])\n",
    "\n",
    "def ode(y: np.ndarray, t: float,\n",
    "        alpha: float, beta: float, gamma: float, delta: float) -> np.ndarray:\n",
    "    (u, v, u_alpha, u_beta, u_gamma, u_delta, v_alpha, v_beta, v_gamma, v_delta\n",
    "    ) = y\n",
    "    return np.array([\n",
    "        (alpha - beta * v) * u,\n",
    "        (-gamma + delta * u) * v,\n",
    "\n",
    "        u + (alpha - beta * v) * u_alpha + (-beta * u) * v_alpha,\n",
    "        -v * u + (alpha - beta * v) * u_beta + (-beta * u) * v_beta,\n",
    "        (alpha - beta * v) * u_gamma + (-beta * u) * v_gamma,\n",
    "        (alpha - beta * v) * u_delta + (-beta * u) * v_delta,\n",
    "\n",
    "        delta * v * u_alpha + (-gamma + delta * u) * v_alpha,\n",
    "        delta * v * u_beta + (-gamma + delta * u) * v_beta,\n",
    "        -v + delta * v * u_gamma + (-gamma + delta * u) * v_gamma,\n",
    "        u * v + delta * v * u_delta + (-gamma + delta * u) * v_delta\n",
    "    ])\n",
    "\n",
    "def func(x: np.ndarray, t: np.ndarray, u: np.ndarray, v: np.ndarray) -> float:\n",
    "    y = odeint(lotka_volterra_model, np.array([u[0], v[0]]), t, args=tuple(x))\n",
    "    return np.sum(np.power(y[:, 0] - u, 2)) + np.sum(np.power(y[:, 1] - v, 2))\n",
    "\n",
    "def func_jac(x: np.ndarray, t: np.ndarray,\n",
    "        u: np.ndarray, v: np.ndarray) -> np.ndarray:\n",
    "    n = len(x)\n",
    "    y0 = np.zeros(2 + 2 * n)\n",
    "    y0[:2] = u[0], v[0]\n",
    "    y = odeint(ode, y0, t, args=tuple(x)).T\n",
    "    result = np.zeros(n)\n",
    "    for i in range(n):\n",
    "        result[i] += np.sum((y[0] - u) * y[2 + i])\n",
    "        result[i] += np.sum((y[1] - v) * y[2 + n + i])\n",
    "    result *= 2.0\n",
    "    return result"
   ]
  },
  {
   "cell_type": "code",
   "execution_count": null,
   "metadata": {},
   "outputs": [],
   "source": [
    "start, stop, n = 0.0, 5.0, 2 ** 10 + 1\n",
    "t = np.linspace(start, stop, n)"
   ]
  },
  {
   "cell_type": "code",
   "execution_count": null,
   "metadata": {},
   "outputs": [],
   "source": [
    "import matplotlib.pyplot as plt\n",
    "\n",
    "y0 = np.array([30.0, 10.0])\n",
    "args = 10, 1.0, 10, 0.5\n",
    "u, v = odeint(lotka_volterra_model, y0, t, args=args).T\n",
    "\n",
    "fig = plt.figure(figsize=(16, 9), dpi=400)\n",
    "subplot = fig.add_subplot(111, facecolor='white', title='Predator-Prey',\n",
    "    xlabel='Time', ylabel='Population')\n",
    "subplot.plot(t, v, 'orange', label='predator', linewidth=2)\n",
    "subplot.plot(t, u, 'blue', label='prey', linewidth=2)\n",
    "plt.legend()\n",
    "plt.show()"
   ]
  },
  {
   "cell_type": "code",
   "execution_count": null,
   "metadata": {},
   "outputs": [],
   "source": [
    "fig = plt.figure(figsize=(16, 9), dpi=400)\n",
    "subplot = fig.add_subplot(111, facecolor='white', title='Phase portrait',\n",
    "    xlabel='Prey', ylabel='Predator')\n",
    "subplot.plot(u, v, 'blue', label='predator-prey', linewidth=2)\n",
    "plt.legend()\n",
    "plt.show()"
   ]
  },
  {
   "cell_type": "code",
   "execution_count": null,
   "metadata": {},
   "outputs": [],
   "source": [
    "from numpy.random import normal\n",
    "\n",
    "scale = 0.05\n",
    "u_noise = u + u * normal(loc=0.0, scale=scale, size=n)\n",
    "v_noise = v + v * normal(loc=0.0, scale=scale, size=n)"
   ]
  },
  {
   "cell_type": "code",
   "execution_count": null,
   "metadata": {},
   "outputs": [],
   "source": [
    "fig = plt.figure(figsize=(16, 9), dpi=400)\n",
    "subplot = fig.add_subplot(111, facecolor='white', title='Predator-Prey',\n",
    "    xlabel='Time', ylabel='Population')\n",
    "subplot.plot(t, v, 'orange', label='predator', linewidth=2)\n",
    "subplot.plot(t, u, 'blue', label='prey', linewidth=2)\n",
    "subplot.plot(t, v_noise, 'Xr', label='predator_noise')\n",
    "subplot.plot(t, u_noise, 'Xg', label='prey_noise')\n",
    "plt.legend()\n",
    "plt.show()"
   ]
  },
  {
   "cell_type": "code",
   "execution_count": null,
   "metadata": {},
   "outputs": [],
   "source": [
    "fig = plt.figure(figsize=(16, 9), dpi=400)\n",
    "subplot = fig.add_subplot(111, facecolor='white', title='Phase portrait',\n",
    "    xlabel='Prey', ylabel='Predator')\n",
    "subplot.plot(u, v, 'blue', label='predator-prey', linewidth=2)\n",
    "subplot.plot(u_noise, v_noise, 'Xg', label='predator-prey noise')\n",
    "plt.legend()\n",
    "plt.show()"
   ]
  },
  {
   "cell_type": "code",
   "execution_count": null,
   "metadata": {},
   "outputs": [],
   "source": [
    "from scipy.optimize import minimize\n",
    "\n",
    "y0_noise, tol, max_iter = np.array([u_noise[0], v_noise[0]]), 1E-7, 10000\n",
    "\n",
    "x0, delta, initial_simplex = np.zeros(4), 0.15, np.zeros((5,4))\n",
    "initial_simplex[1:] = 2.0 * delta * np.identity(4)\n",
    "initial_simplex = (initial_simplex + (1.0 - delta)) * args\n",
    "result = minimize(fun=func, x0=x0, args=(t, u_noise, v_noise),\n",
    "    method='Nelder-Mead', tol=tol,\n",
    "    options={'initial_simplex': initial_simplex, 'maxiter': max_iter})\n",
    "print(F'The solution of the optimization: {result.x}')\n",
    "print(F'Value of objective function: {result.fun}')\n",
    "print(F'Description of the cause of the termination: {result.message}')\n",
    "print(F'Number of evaluations of the objective functions: {result.nfev}')\n",
    "print(F'Number of iterations performed by the optimizer: {result.nit}')\n",
    "\n",
    "u_approx, v_approx = odeint(lotka_volterra_model, y0_noise, t,\n",
    "    args=tuple(result.x)).T\n",
    "\n",
    "fig = plt.figure(figsize=(16, 9), dpi=400)\n",
    "subplot = fig.add_subplot(111, facecolor='white', title='Predator-Prey',\n",
    "    xlabel='Time', ylabel='Population')\n",
    "subplot.plot(t, v_noise, 'Xr', label='predator_noise')\n",
    "subplot.plot(t, v, 'orange', label='predator', linewidth=2)\n",
    "subplot.plot(t, v_approx, 'c--', label='predator_approx', linewidth=2)\n",
    "subplot.plot(t, u_noise, 'Xg', label='prey_noise')\n",
    "subplot.plot(t, u, 'blue', label='prey', linewidth=2)\n",
    "subplot.plot(t, u_approx, 'm--', label='prey_approx', linewidth=2)\n",
    "plt.legend()\n",
    "plt.show()"
   ]
  },
  {
   "cell_type": "code",
   "execution_count": null,
   "metadata": {},
   "outputs": [],
   "source": [
    "x0=(1.0 + normal(loc=0.0, scale=0.4, size=4)) * args\n",
    "result = minimize(fun=func, x0=x0, args=(t, u_noise, v_noise),\n",
    "    method='TNC', jac=func_jac, tol=tol, options={'maxiter': max_iter})\n",
    "print(F'The solution of the optimization: {result.x}')\n",
    "print(F'Value of objective function: {result.fun}')\n",
    "print(F'Description of the cause of the termination: {result.message}')\n",
    "print(F'Number of evaluations of the objective functions: {result.nfev}')\n",
    "print(F'Number of iterations performed by the optimizer: {result.nit}')\n",
    "\n",
    "u_approx, v_approx = odeint(lotka_volterra_model, y0_noise, t,\n",
    "    args=tuple(result.x)).T\n",
    "\n",
    "fig = plt.figure(figsize=(16, 9), dpi=400)\n",
    "subplot = fig.add_subplot(111, facecolor='white', title='Predator-Prey',\n",
    "    xlabel='Time', ylabel='Population')\n",
    "subplot.plot(t, v_noise, 'Xr', label='predator_noise')\n",
    "subplot.plot(t, v, 'orange', label='predator', linewidth=2)\n",
    "subplot.plot(t, v_approx, 'c--', label='predator_approx', linewidth=2)\n",
    "subplot.plot(t, u_noise, 'Xg', label='prey_noise')\n",
    "subplot.plot(t, u, 'blue', label='prey', linewidth=2)\n",
    "subplot.plot(t, u_approx, 'm--', label='prey_approx', linewidth=2)\n",
    "plt.legend()\n",
    "plt.show()"
   ]
  }
 ],
 "metadata": {
  "kernelspec": {
   "display_name": "Python 3",
   "language": "python",
   "name": "python3"
  },
  "language_info": {
   "codemirror_mode": {
    "name": "ipython",
    "version": 3
   },
   "file_extension": ".py",
   "mimetype": "text/x-python",
   "name": "python",
   "nbconvert_exporter": "python",
   "pygments_lexer": "ipython3",
   "version": "3.6.5"
  }
 },
 "nbformat": 4,
 "nbformat_minor": 5
}
