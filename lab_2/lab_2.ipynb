{
 "cells": [
  {
   "cell_type": "code",
   "execution_count": null,
   "metadata": {},
   "outputs": [],
   "source": [
    "# Имя набор данных построить аппроксимационную модель\n",
    "# Хьюбер, Тюки - функция потерь - это робастость\n",
    "# Квадрат если небольшое\n",
    "# Линия если больше\n",
    "# Константа\n",
    "# 2 - регуляризация L1, L2, SVD\n",
    "# 3 - робастость"
   ]
  },
  {
   "cell_type": "code",
   "execution_count": null,
   "metadata": {},
   "outputs": [],
   "source": [
    "# 4 Лаб работа - сплайны. Натуральный сплайн\n",
    "# 4 Лаб работа - сплайны. Робастный сглаживающий сплайн"
   ]
  },
  {
   "cell_type": "code",
   "execution_count": null,
   "metadata": {},
   "outputs": [],
   "source": [
    "!python -m pip install matplotlib numpy"
   ]
  },
  {
   "cell_type": "code",
   "execution_count": null,
   "metadata": {},
   "outputs": [],
   "source": [
    "from sys import float_info\n",
    "\n",
    "import numpy as np\n",
    "from numpy.linalg import solve\n",
    "\n",
    "def ordinary_least_squares(x: np.ndarray, y: np.ndarray, order: int,\n",
    "        p: int = 0, alpha: float = 1.0, eps: float = 1E-8, max_iter: int = 100):\n",
    "    if (not isinstance(x, np.ndarray) or not isinstance(y, np.ndarray)\n",
    "            or not isinstance(order, int) or not isinstance(p, int)\n",
    "            or not isinstance(alpha, float) or not isinstance(eps, float)\n",
    "            or not isinstance(max_iter, int)):\n",
    "        raise TypeError()\n",
    "    if (len(x.shape) != 1 or len(y.shape) != 1 or x.shape != y.shape\n",
    "            or order < 2 or p not in range(3) or alpha < 0\n",
    "            or eps < float_info.epsilon or max_iter < 1):\n",
    "        raise ValueError()\n",
    "\n",
    "    n = len(x)\n",
    "    x_upper = np.vander(x, order + 1, increasing=False)\n",
    "    left, right = x_upper.T @ x_upper, x_upper.T @ y\n",
    "    print('Condition number =', np.linalg.cond(left))\n",
    "\n",
    "    if p == 2:\n",
    "        left += alpha * np.eye(order + 1)\n",
    "        print('L2: Condition number =', np.linalg.cond(left))\n",
    "    if p != 1:\n",
    "        return solve(left, right)\n",
    "\n",
    "    for _ in range(max_iter):\n",
    "        next_a = solve(left, right)\n",
    "    return 5, next_a"
   ]
  },
  {
   "cell_type": "code",
   "execution_count": null,
   "metadata": {},
   "outputs": [],
   "source": [
    "from math import cos, sin, sqrt\n",
    "\n",
    "def f(x: float) -> float:\n",
    "    # return x + 10 * sin(x / 10.0) + 15 * sin(x / 5) + 20 * sin(x / 2)\n",
    "    return x**2 - 17 * sin(7.0 / 9.0 * x)\n",
    "\n",
    "start, stop, extended = 0, 13, 3\n",
    "x = np.linspace(start, stop, 2 ** 6)\n",
    "extended_x = np.linspace(start - extended, stop + extended, 2 ** 20)\n",
    "f_vectorize = np.vectorize(f)\n",
    "y = f_vectorize(x)"
   ]
  },
  {
   "cell_type": "code",
   "execution_count": null,
   "metadata": {},
   "outputs": [],
   "source": [
    "import matplotlib.pyplot as plt\n",
    "\n",
    "fig = plt.figure(figsize=(16, 9), dpi=400)\n",
    "subplot = fig.add_subplot(111, facecolor = '#FFFFFF')\n",
    "subplot.plot(x, y, color = 'red', lw = 2, label = 'y')\n",
    "plt.legend()\n",
    "plt.show()"
   ]
  },
  {
   "cell_type": "code",
   "execution_count": null,
   "metadata": {},
   "outputs": [],
   "source": [
    "def f_prime(x: float) -> float:\n",
    "    return 1 + cos(x / 10) + 3 * cos(x / 5) + 10 * cos(x / 2)\n",
    "\n",
    "f_prime_vectorize = np.vectorize(f_prime)\n",
    "\n",
    "fig = plt.figure(figsize=(16, 9), dpi=400)\n",
    "subplot = fig.add_subplot(111, facecolor = '#FFFFFF')\n",
    "subplot.plot(x, f_prime_vectorize(x), color = 'red', lw = 2, label = 'y')\n",
    "plt.legend()\n",
    "plt.show()"
   ]
  },
  {
   "cell_type": "code",
   "execution_count": null,
   "metadata": {},
   "outputs": [],
   "source": [
    "from numpy.random import normal\n",
    "\n",
    "y_noise = y + normal(loc=0, scale=1.0, size=len(y))\n",
    "fig = plt.figure(figsize=(16, 9), dpi=400)\n",
    "subplot = fig.add_subplot(111, facecolor = '#FFFFFF')\n",
    "subplot.plot(x, y_noise, color = 'red', lw = 2, label = 'y_noise')\n",
    "subplot.plot(x, y, color = 'green', lw = 2, label = 'y')\n",
    "plt.legend()\n",
    "plt.show()"
   ]
  },
  {
   "cell_type": "code",
   "execution_count": null,
   "metadata": {},
   "outputs": [],
   "source": [
    "poly = ordinary_least_squares(x, y_noise, order=2, p=0, alpha=0.0)\n",
    "polyval = np.polyval(poly, extended_x)\n",
    "\n",
    "fig = plt.figure(figsize=(16, 9), dpi=400)\n",
    "subplot = fig.add_subplot(111, facecolor = '#FFFFFF')\n",
    "subplot.plot(x, y_noise, color = 'red', lw = 2, label = 'y_noise')\n",
    "subplot.plot(x, y, color = 'green', lw = 2, label = 'y')\n",
    "subplot.plot(extended_x, polyval, color = 'blue', lw = 2, label = 'polyval')\n",
    "plt.legend()\n",
    "plt.show()\n",
    "print(poly)"
   ]
  },
  {
   "cell_type": "code",
   "execution_count": null,
   "metadata": {},
   "outputs": [],
   "source": [
    "poly = ordinary_least_squares(x, y_noise, order=4, p=0, alpha=0.0)\n",
    "polyval = np.polyval(poly, x)\n",
    "\n",
    "fig = plt.figure(figsize=(16, 9), dpi=400)\n",
    "subplot = fig.add_subplot(111, facecolor = '#FFFFFF')\n",
    "subplot.plot(x, y_noise, color = 'red', lw = 2, label = 'y_noise')\n",
    "subplot.plot(x, y, color = 'green', lw = 2, label = 'y')\n",
    "subplot.plot(x, polyval, color = 'blue', lw = 2, label = 'polyval')\n",
    "plt.legend()\n",
    "plt.show()\n",
    "print(poly)"
   ]
  },
  {
   "cell_type": "code",
   "execution_count": null,
   "metadata": {},
   "outputs": [],
   "source": [
    "poly = ordinary_least_squares(x, y_noise, order=4, p=0, alpha=0.0)\n",
    "polyval = np.polyval(poly, extended_x)\n",
    "\n",
    "fig = plt.figure(figsize=(16, 9), dpi=400)\n",
    "subplot = fig.add_subplot(111, facecolor = '#FFFFFF')\n",
    "subplot.plot(x, y_noise, color = 'red', lw = 2, label = 'y_noise')\n",
    "subplot.plot(x, y, color = 'green', lw = 2, label = 'y')\n",
    "subplot.plot(extended_x, polyval, color = 'blue', lw = 2, label = 'polyval')\n",
    "plt.legend()\n",
    "plt.show()\n",
    "print(poly)"
   ]
  },
  {
   "cell_type": "code",
   "execution_count": null,
   "metadata": {},
   "outputs": [],
   "source": [
    "colors = ['brown', 'maroon', 'green', 'blue', 'magenta', 'gold']\n",
    "fig = plt.figure(figsize=(16, 9), dpi=400)\n",
    "subplot = fig.add_subplot(111, facecolor = '#FFFFFF')\n",
    "subplot.plot(x, y_noise, color = 'red', lw = 2, label = 'y_noise')\n",
    "subplot.plot(x, y, color = 'green', lw = 2, label = 'y')\n",
    "\n",
    "for i in range(6):\n",
    "    alpha = 0.005 * (10 ** i)\n",
    "    poly = ordinary_least_squares(x, y_noise, order=4, p=2, alpha=alpha)\n",
    "    polyval = np.polyval(poly, extended_x)\n",
    "\n",
    "    subplot.plot(extended_x, polyval, color = colors[i], lw = 2, label = 'polyval: alpha = ' + str(alpha))\n",
    "    print(poly)\n",
    "plt.legend()\n",
    "plt.show()"
   ]
  }
 ],
 "metadata": {
  "kernelspec": {
   "display_name": "Python 3",
   "language": "python",
   "name": "python3"
  },
  "language_info": {
   "codemirror_mode": {
    "name": "ipython",
    "version": 3
   },
   "file_extension": ".py",
   "mimetype": "text/x-python",
   "name": "python",
   "nbconvert_exporter": "python",
   "pygments_lexer": "ipython3",
   "version": "3.6.5"
  }
 },
 "nbformat": 4,
 "nbformat_minor": 2
}
