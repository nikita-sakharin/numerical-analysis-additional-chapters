{
 "cells": [
  {
   "cell_type": "code",
   "execution_count": null,
   "metadata": {},
   "outputs": [],
   "source": [
    "!python -m pip install -r requirements.txt"
   ]
  },
  {
   "cell_type": "markdown",
   "metadata": {},
   "source": [
    "# Discrete Fourier transform"
   ]
  },
  {
   "cell_type": "code",
   "execution_count": null,
   "metadata": {},
   "outputs": [],
   "source": [
    "import numpy as np\n",
    "\n",
    "def dft_matrix(n: int, inv: bool = False) -> np.ndarray:\n",
    "    if not isinstance(n, int) or not isinstance(inv, bool):\n",
    "        raise TypeError()\n",
    "    if n < 1:\n",
    "        raise ValueError()\n",
    "\n",
    "    k = np.arange(n)\n",
    "    w_n = np.exp((2J if inv else -2J) * k * np.pi / n)\n",
    "    return np.vander(w_n, n, increasing=True) / (n if inv else 1.0)"
   ]
  },
  {
   "cell_type": "code",
   "execution_count": null,
   "metadata": {},
   "outputs": [],
   "source": [
    "from numpy.fft import fft, ifft\n",
    "from numpy.random import normal, randint, randn\n",
    "\n",
    "for _ in range(100):\n",
    "    kwargs = {'rtol': 1E-8, 'atol': 1E-8}\n",
    "    n = randint(100) + 1\n",
    "    x = randn(n) + 1J * randn(n)\n",
    "\n",
    "    y = dft_matrix(n) @ x\n",
    "    assert np.allclose(y, fft(x), **kwargs)\n",
    "    x = dft_matrix(n, inv=True) @ y\n",
    "    assert np.allclose(x, ifft(y), **kwargs)"
   ]
  },
  {
   "cell_type": "code",
   "execution_count": null,
   "metadata": {},
   "outputs": [],
   "source": [
    "from math import cos, pi, sin\n",
    "\n",
    "def f(x: float) -> float:\n",
    "    return 7.0 * sin(x) + 5.0 * cos(x * 7.0)\n",
    "\n",
    "start, stop, n = -2.0 * pi, 2.0 * pi, 2 ** 10 + 1\n",
    "x = np.linspace(start, stop, n)\n",
    "f_vectorize = np.vectorize(f)\n",
    "y = f_vectorize(x)"
   ]
  },
  {
   "cell_type": "code",
   "execution_count": null,
   "metadata": {},
   "outputs": [],
   "source": [
    "import matplotlib.pyplot as plt\n",
    "\n",
    "fig = plt.figure(figsize=(16, 9), dpi=400)\n",
    "subplot = fig.add_subplot(111, facecolor='white')\n",
    "subplot.plot(x, y, 'red', label='y', linewidth=2)\n",
    "plt.legend()\n",
    "plt.show()"
   ]
  },
  {
   "cell_type": "code",
   "execution_count": null,
   "metadata": {},
   "outputs": [],
   "source": [
    "y_noise = y + normal(loc=0.0, scale=1.0, size=n)\n",
    "fig = plt.figure(figsize=(16, 9), dpi=400)\n",
    "subplot = fig.add_subplot(111, facecolor='white')\n",
    "subplot.plot(x, y_noise, 'Xr', label='y_noise')\n",
    "subplot.plot(x, y, 'green', label='y', linewidth=2)\n",
    "plt.legend()\n",
    "plt.show()"
   ]
  },
  {
   "cell_type": "code",
   "execution_count": null,
   "metadata": {},
   "outputs": [],
   "source": [
    "x_upper = dft_matrix(n)\n",
    "dft = x_upper @ y_noise\n",
    "\n",
    "fig = plt.figure(figsize=(16, 9), dpi=400)\n",
    "subplot = fig.add_subplot(211, facecolor='white')\n",
    "subplot.plot(np.abs(dft[:n // 2]), 'bo', label='dft: abs')\n",
    "subplot = fig.add_subplot(212, facecolor='white')\n",
    "subplot.plot(np.angle(dft), 'ro', label='dft: angle')\n",
    "plt.legend()\n",
    "plt.show()"
   ]
  },
  {
   "cell_type": "code",
   "execution_count": null,
   "metadata": {},
   "outputs": [],
   "source": [
    "epsilon = 100.0\n",
    "dft_filter = np.where(np.abs(dft) < epsilon, 0.0, dft)\n",
    "x_upper_inv = dft_matrix(n, inv=True)\n",
    "y_filter = x_upper_inv @ dft_filter\n",
    "assert np.all(np.imag(y_filter) <= 1.0E-8)\n",
    "y_filter = np.real(y_filter)\n",
    "\n",
    "fig = plt.figure(figsize=(16, 9), dpi=400)\n",
    "subplot = fig.add_subplot(111, facecolor='white')\n",
    "subplot.plot(x, y_noise, 'Xr', label='y_noise')\n",
    "subplot.plot(x, y, 'green', label='y', linewidth=2)\n",
    "subplot.plot(x, y_filter, 'blue', label='y_filter', linewidth=2)\n",
    "plt.legend()\n",
    "plt.show()"
   ]
  },
  {
   "cell_type": "markdown",
   "metadata": {},
   "source": [
    "# Hybrid basic "
   ]
  },
  {
   "cell_type": "code",
   "execution_count": null,
   "metadata": {},
   "outputs": [],
   "source": [
    "from numpy.linalg import solve\n",
    "\n",
    "def lsq_dft(x: np.ndarray, y: np.ndarray, order: int, q: int) -> np.ndarray:\n",
    "    if (not isinstance(x, np.ndarray) or not isinstance(y, np.ndarray)\n",
    "            or not isinstance(order, int) or not isinstance(q, int)):\n",
    "        raise TypeError()\n",
    "    n, k = len(x), order + 1\n",
    "    if (len(x.shape) != 1 or n < 2 or np.any(np.diff(x) <= 0)\n",
    "            or x.shape != y.shape or order not in range(1, 5) or q < 1):\n",
    "        raise ValueError()\n",
    "\n",
    "    t_upper = x[-1] - x[0]\n",
    "    x_upper = np.zeros(shape=(n, k + 2 * q))\n",
    "    x_upper[:, :k] = np.vander(x, k, increasing=True)\n",
    "    for j in range(q):\n",
    "        x_upper[:, k + 2 * j] = np.cos(2.0 * (j + 1) * np.pi / t_upper * x)\n",
    "        x_upper[:, k + 2 * j + 1] = np.sin(2.0 * (j + 1) * np.pi / t_upper * x)\n",
    "    left, right = x_upper.T @ x_upper, x_upper.T @ y\n",
    "    beta = solve(left, right)\n",
    "    return x_upper @ beta"
   ]
  },
  {
   "cell_type": "code",
   "execution_count": null,
   "metadata": {},
   "outputs": [],
   "source": [
    "def f(x: float) -> float:\n",
    "    return 1.4 * x**2 - 7.0 * x - 100.0 + 7.0 * sin(x) + 5.0 * cos(x * 7.0)\n",
    "\n",
    "start, stop, n = -3.0 * pi, 5.0 * pi, 2 ** 10 + 1\n",
    "x = np.linspace(start, stop, n)\n",
    "f_vectorize = np.vectorize(f)\n",
    "y = f_vectorize(x)"
   ]
  },
  {
   "cell_type": "code",
   "execution_count": null,
   "metadata": {},
   "outputs": [],
   "source": [
    "fig = plt.figure(figsize=(16, 9), dpi=400)\n",
    "subplot = fig.add_subplot(111, facecolor='white')\n",
    "subplot.plot(x, y, 'red', label='y', linewidth=2)\n",
    "plt.legend()\n",
    "plt.show()"
   ]
  },
  {
   "cell_type": "code",
   "execution_count": null,
   "metadata": {},
   "outputs": [],
   "source": [
    "y_noise = y + normal(loc=0.0, scale=1.0, size=n)\n",
    "fig = plt.figure(figsize=(16, 9), dpi=400)\n",
    "subplot = fig.add_subplot(111, facecolor='white')\n",
    "subplot.plot(x, y_noise, 'Xr', label='y_noise')\n",
    "subplot.plot(x, y, 'green', label='y', linewidth=2)\n",
    "plt.legend()\n",
    "plt.show()"
   ]
  },
  {
   "cell_type": "code",
   "execution_count": null,
   "metadata": {},
   "outputs": [],
   "source": [
    "y_filter = lsq_dft(x, y_noise, 4, 28)\n",
    "\n",
    "fig = plt.figure(figsize=(16, 9), dpi=400)\n",
    "subplot = fig.add_subplot(111, facecolor='white')\n",
    "subplot.plot(x, y_noise, 'Xr', label='y_noise')\n",
    "subplot.plot(x, y, 'green', label='y', linewidth=2)\n",
    "subplot.plot(x, y_filter, 'blue', label='y_filter', linewidth=2)\n",
    "plt.legend()\n",
    "plt.show()"
   ]
  }
 ],
 "metadata": {
  "kernelspec": {
   "display_name": "Python 3",
   "language": "python",
   "name": "python3"
  },
  "language_info": {
   "codemirror_mode": {
    "name": "ipython",
    "version": 3
   },
   "file_extension": ".py",
   "mimetype": "text/x-python",
   "name": "python",
   "nbconvert_exporter": "python",
   "pygments_lexer": "ipython3",
   "version": "3.6.5"
  }
 },
 "nbformat": 4,
 "nbformat_minor": 2
}
