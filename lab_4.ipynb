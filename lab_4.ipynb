{
 "cells": [
  {
   "cell_type": "code",
   "execution_count": null,
   "metadata": {},
   "outputs": [],
   "source": [
    "!python -m pip install matplotlib numpy"
   ]
  },
  {
   "cell_type": "code",
   "execution_count": null,
   "metadata": {},
   "outputs": [],
   "source": [
    "import numpy as np\n",
    "\n",
    "def dft_matrix(n: int, inv: bool = False) -> np.ndarray:\n",
    "    if not isinstance(n, int) or not isinstance(inv, bool):\n",
    "        raise TypeError()\n",
    "    if n < 1:\n",
    "        raise ValueError()\n",
    "        \n",
    "    k = np.arange(n)\n",
    "    w_n = np.exp((2J if inv else -2J) * k * np.pi / n)\n",
    "    return np.vander(w_n, n, increasing=True) / (n if inv else 1.0)"
   ]
  },
  {
   "cell_type": "code",
   "execution_count": null,
   "metadata": {},
   "outputs": [],
   "source": [
    "from numpy.fft import fft, ifft\n",
    "from numpy.random import randint, randn\n",
    "\n",
    "for _ in range(100):\n",
    "    kwargs = {'rtol': 10E-8, 'atol': 10E-8}\n",
    "    n = randint(100) + 1\n",
    "    x = randn(n) + 1J * randn(n)\n",
    "\n",
    "    y = dft_matrix(n) @ x\n",
    "    assert np.allclose(y, fft(x), **kwargs)\n",
    "    x = dft_matrix(n, inv=True) @ y\n",
    "    assert np.allclose(x, ifft(y), **kwargs)"
   ]
  },
  {
   "cell_type": "code",
   "execution_count": null,
   "metadata": {},
   "outputs": [],
   "source": [
    "from math import cos, pi, sin\n",
    "\n",
    "def f(x: float) -> float:\n",
    "    return 7.0 * sin(x) + 5.0 * cos(x * 7.0)\n",
    "\n",
    "start, stop = -2.0 * pi, 2.0 * pi\n",
    "x = np.linspace(start, stop, 2 ** 10 + 1)\n",
    "f_vectorize = np.vectorize(f)\n",
    "y = f_vectorize(x)"
   ]
  },
  {
   "cell_type": "code",
   "execution_count": null,
   "metadata": {},
   "outputs": [],
   "source": [
    "import matplotlib.pyplot as plt\n",
    "\n",
    "fig = plt.figure(figsize=(16, 9), dpi=400)\n",
    "subplot = fig.add_subplot(111, facecolor='#FFFFFF')\n",
    "subplot.plot(x, y, color='red', lw=2, label='y')\n",
    "plt.legend()\n",
    "plt.show()"
   ]
  },
  {
   "cell_type": "code",
   "execution_count": null,
   "metadata": {},
   "outputs": [],
   "source": [
    "from numpy.random import normal\n",
    "\n",
    "n = len(x)\n",
    "y_noise = y + normal(loc=0.0, scale=1.0, size=n)\n",
    "fig = plt.figure(figsize=(16, 9), dpi=400)\n",
    "subplot = fig.add_subplot(111, facecolor='#FFFFFF')\n",
    "subplot.plot(x, y_noise, 'Xr', label='y_noise')\n",
    "subplot.plot(x, y, color='green', lw=2, label='y')\n",
    "plt.legend()\n",
    "plt.show()"
   ]
  },
  {
   "cell_type": "code",
   "execution_count": null,
   "metadata": {},
   "outputs": [],
   "source": [
    "# subplot.plot(np.abs(fft(y))[:len(y) // 2], color='blue', lw=2, label='fft')\n",
    "type(2.0J)\n",
    "import math\n",
    "math.pow(3, 3)"
   ]
  }
 ],
 "metadata": {
  "kernelspec": {
   "display_name": "Python 3",
   "language": "python",
   "name": "python3"
  },
  "language_info": {
   "codemirror_mode": {
    "name": "ipython",
    "version": 3
   },
   "file_extension": ".py",
   "mimetype": "text/x-python",
   "name": "python",
   "nbconvert_exporter": "python",
   "pygments_lexer": "ipython3",
   "version": "3.6.5"
  }
 },
 "nbformat": 4,
 "nbformat_minor": 2
}
