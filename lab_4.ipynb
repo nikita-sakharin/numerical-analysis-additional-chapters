{
 "cells": [
  {
   "cell_type": "code",
   "execution_count": null,
   "metadata": {},
   "outputs": [],
   "source": [
    "!python -m pip install -r requirements.txt"
   ]
  },
  {
   "cell_type": "markdown",
   "metadata": {},
   "source": [
    "# Discrete Fourier transform"
   ]
  },
  {
   "cell_type": "code",
   "execution_count": null,
   "metadata": {},
   "outputs": [],
   "source": [
    "import numpy as np\n",
    "\n",
    "def dft_matrix(n: int, inv: bool = False) -> np.ndarray:\n",
    "    if not isinstance(n, int) or not isinstance(inv, bool):\n",
    "        raise TypeError()\n",
    "    if n < 1:\n",
    "        raise ValueError()\n",
    "        \n",
    "    k = np.arange(n)\n",
    "    w_n = np.exp((2J if inv else -2J) * k * np.pi / n)\n",
    "    return np.vander(w_n, n, increasing=True) / (n if inv else 1.0)"
   ]
  },
  {
   "cell_type": "code",
   "execution_count": null,
   "metadata": {},
   "outputs": [],
   "source": [
    "from numpy.fft import fft, ifft\n",
    "from numpy.random import normal, randint, randn\n",
    "\n",
    "for _ in range(100):\n",
    "    kwargs = {'rtol': 1E-8, 'atol': 1E-8}\n",
    "    n = randint(100) + 1\n",
    "    x = randn(n) + 1J * randn(n)\n",
    "\n",
    "    y = dft_matrix(n) @ x\n",
    "    assert np.allclose(y, fft(x), **kwargs)\n",
    "    x = dft_matrix(n, inv=True) @ y\n",
    "    assert np.allclose(x, ifft(y), **kwargs)"
   ]
  },
  {
   "cell_type": "code",
   "execution_count": null,
   "metadata": {},
   "outputs": [],
   "source": [
    "from math import cos, pi, sin\n",
    "\n",
    "def f(x: float) -> float:\n",
    "    return 7.0 * sin(x) + 5.0 * cos(x * 7.0)\n",
    "\n",
    "start, stop = -2.0 * pi, 2.0 * pi\n",
    "x = np.linspace(start, stop, 2 ** 10 + 1)\n",
    "f_vectorize = np.vectorize(f)\n",
    "y = f_vectorize(x)"
   ]
  },
  {
   "cell_type": "code",
   "execution_count": null,
   "metadata": {},
   "outputs": [],
   "source": [
    "import matplotlib.pyplot as plt\n",
    "\n",
    "fig = plt.figure(figsize=(16, 9), dpi=400)\n",
    "subplot = fig.add_subplot(111, facecolor='#FFFFFF')\n",
    "subplot.plot(x, y, color='red', lw=2, label='y')\n",
    "plt.legend()\n",
    "plt.show()"
   ]
  },
  {
   "cell_type": "code",
   "execution_count": null,
   "metadata": {},
   "outputs": [],
   "source": [
    "n = len(x)\n",
    "y_noise = y + normal(loc=0.0, scale=1.0, size=n)\n",
    "fig = plt.figure(figsize=(16, 9), dpi=400)\n",
    "subplot = fig.add_subplot(111, facecolor='#FFFFFF')\n",
    "subplot.plot(x, y_noise, 'Xr', label='y_noise')\n",
    "subplot.plot(x, y, color='green', lw=2, label='y')\n",
    "plt.legend()\n",
    "plt.show()"
   ]
  },
  {
   "cell_type": "code",
   "execution_count": null,
   "metadata": {},
   "outputs": [],
   "source": [
    "x_upper = dft_matrix(n)\n",
    "dft = x_upper @ y_noise\n",
    "\n",
    "fig = plt.figure(figsize=(16, 9), dpi=400)\n",
    "subplot = fig.add_subplot(211, facecolor='#FFFFFF')\n",
    "subplot.plot(np.abs(dft[:n // 2]), 'bo', label='dft: abs')\n",
    "subplot = fig.add_subplot(212, facecolor='#FFFFFF')\n",
    "subplot.plot(np.angle(dft), 'ro', label='dft: angle')\n",
    "plt.legend()\n",
    "plt.show()"
   ]
  },
  {
   "cell_type": "code",
   "execution_count": null,
   "metadata": {},
   "outputs": [],
   "source": [
    "epsilon = 100.0\n",
    "dft_filter = np.where(np.abs(dft) < epsilon, 0.0, dft)\n",
    "x_upper_inv = dft_matrix(n, inv=True)\n",
    "y_filter = x_upper_inv @ dft_filter\n",
    "assert np.all(np.imag(y_filter) <= 1.0E-8)\n",
    "y_filter = np.real(y_filter)\n",
    "\n",
    "fig = plt.figure(figsize=(16, 9), dpi=400)\n",
    "subplot = fig.add_subplot(111, facecolor='#FFFFFF')\n",
    "subplot.plot(x, y_noise, 'Xr', lw=2, label='y_noise')\n",
    "subplot.plot(x, y, color='green', lw=2, label='y')\n",
    "subplot.plot(x, y_filter, color='blue', label='y_filter')\n",
    "plt.legend()\n",
    "plt.show()"
   ]
  },
  {
   "cell_type": "markdown",
   "metadata": {},
   "source": [
    "# Hybrid basic "
   ]
  },
  {
   "cell_type": "code",
   "execution_count": null,
   "metadata": {},
   "outputs": [],
   "source": [
    "def dft_lsq(x: np.ndarray, y: np.ndarray, order: int = 3,\n",
    "            epsilon: float = 1E-7) -> np.ndarray:\n",
    "    if (not isinstance(x, np.ndarray) or not isinstance(y, np.ndarray)\n",
    "            or not isinstance(order, int) or not isinstance(epsilon, float)):\n",
    "        raise TypeError()\n",
    "    n, k = len(x), order + 1\n",
    "    if (len(x.shape) != 1 or n < 2 or np.any(np.diff(x) <= 0)\n",
    "            or x.shape != y.shape or order not in range(1, 5)\n",
    "            or epsilon < float_info.epsilon):\n",
    "        raise ValueError()\n",
    "    \n",
    "    t_upper = x[-1] - x[0] # ???\n",
    "    x_upper = np.zeros(shape=(n, k + m), dtype=complex)\n",
    "    x_upper[:, :k] = dft_matrix(n)\n",
    "    for j in range(m):\n",
    "        index = x > knots[j]\n",
    "        x_upper[index, k + j] += np.power(x[index] - knots[j], order)\n",
    "    left, right = x_upper.T @ x_upper, x_upper.T @ y\n",
    "    beta = solve(left, right)\n",
    "    if not robust:\n",
    "        return x_upper @ beta\n",
    "\n",
    "    for _ in range(max_iter):\n",
    "        x_upper_beta = x_upper @ beta\n",
    "        diff = x_upper_beta - y\n",
    "        cond = np.abs(diff) < delta\n",
    "        y = np.where(cond, y, x_upper_beta - np.sign(diff) * delta)\n",
    "        right = x_upper.T @ y\n",
    "        next_beta = solve(left, right)\n",
    "        error = norm(next_beta - beta, ord=2)\n",
    "        beta, next_beta = next_beta, beta\n",
    "        if (error < epsilon):\n",
    "            break\n",
    "    return x_upper @ beta"
   ]
  }
 ],
 "metadata": {
  "kernelspec": {
   "display_name": "Python 3",
   "language": "python",
   "name": "python3"
  },
  "language_info": {
   "codemirror_mode": {
    "name": "ipython",
    "version": 3
   },
   "file_extension": ".py",
   "mimetype": "text/x-python",
   "name": "python",
   "nbconvert_exporter": "python",
   "pygments_lexer": "ipython3",
   "version": "3.6.5"
  }
 },
 "nbformat": 4,
 "nbformat_minor": 2
}
