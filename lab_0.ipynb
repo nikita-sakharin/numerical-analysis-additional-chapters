{
 "cells": [
  {
   "cell_type": "code",
   "execution_count": null,
   "metadata": {},
   "outputs": [],
   "source": [
    "!python -m pip install -r requirements.txt"
   ]
  },
  {
   "cell_type": "code",
   "execution_count": null,
   "metadata": {},
   "outputs": [],
   "source": [
    "from math import cos, sin\n",
    "import numpy as np\n",
    "\n",
    "def f(x: float) -> float:\n",
    "    return x + 10.0 * sin(x / 10.0) + 15.0 * sin(x / 5.0) + 20.0 * sin(x / 2.0)\n",
    "\n",
    "n = 2 ** 20\n",
    "x = np.linspace(-25.0, 25.0, n)\n",
    "f_vectorize = np.vectorize(f)\n",
    "y = f_vectorize(x)"
   ]
  },
  {
   "cell_type": "code",
   "execution_count": null,
   "metadata": {},
   "outputs": [],
   "source": [
    "import matplotlib.pyplot as plt\n",
    "\n",
    "fig = plt.figure(figsize=(16, 9), dpi=400)\n",
    "subplot = fig.add_subplot(111, facecolor='white')\n",
    "subplot.plot(x, y, color='red', linewidth=2, label='y')\n",
    "plt.legend()\n",
    "plt.show()"
   ]
  },
  {
   "cell_type": "code",
   "execution_count": null,
   "metadata": {},
   "outputs": [],
   "source": [
    "def f_prime(x: float) -> float:\n",
    "    return 1.0 + cos(x / 10.0) + 3.0 * cos(x / 5.0) + 10.0 * cos(x / 2.0)\n",
    "\n",
    "f_prime_vectorize = np.vectorize(f_prime)\n",
    "\n",
    "fig = plt.figure(figsize=(16, 9), dpi=400)\n",
    "subplot = fig.add_subplot(111, facecolor='white')\n",
    "subplot.plot(x, f_prime_vectorize(x), color='red', linewidth=2, label='y')\n",
    "plt.legend()\n",
    "plt.show()"
   ]
  },
  {
   "cell_type": "code",
   "execution_count": null,
   "metadata": {},
   "outputs": [],
   "source": [
    "from numpy.random import normal\n",
    "\n",
    "y_noise = y + normal(loc=0.0, scale=1.0, size=n)\n",
    "fig = plt.figure(figsize=(16, 9), dpi=400)\n",
    "subplot = fig.add_subplot(111, facecolor='white')\n",
    "subplot.plot(x, y_noise, color='red', linewidth=2, label='y_noise')\n",
    "plt.legend()\n",
    "plt.show()"
   ]
  },
  {
   "cell_type": "code",
   "execution_count": null,
   "metadata": {},
   "outputs": [],
   "source": [
    "from numpy.polynomial import Polynomial\n",
    "\n",
    "step = 2 ** 16\n",
    "deg = 4\n",
    "approx, f_prime_approx = np.empty(0), np.empty(0)\n",
    "for i in range(0, n, step):\n",
    "    poly = Polynomial.fit(x[i:i + step], y_noise[i:i + step], deg=deg)\n",
    "    approx = np.append(approx, poly(x[i:i + step]))\n",
    "    polyder = poly.deriv(m=1)\n",
    "    f_prime_approx = np.append(f_prime_approx, polyder(x[i:i + step]))\n",
    "assert n == len(approx)\n",
    "\n",
    "fig = plt.figure(figsize=(16, 9), dpi=400)\n",
    "subplot = fig.add_subplot(111, facecolor='white')\n",
    "subplot.plot(x, y, color='red', linewidth=2, label='y')\n",
    "subplot.plot(x, y_noise, color='blue', linewidth=2, label='y_noise')\n",
    "subplot.plot(x, approx, color='green', linewidth=2, label='approx')\n",
    "plt.legend()\n",
    "plt.show()"
   ]
  },
  {
   "cell_type": "code",
   "execution_count": null,
   "metadata": {},
   "outputs": [],
   "source": [
    "fig = plt.figure(figsize=(16, 9), dpi=400)\n",
    "subplot = fig.add_subplot(111, facecolor='white')\n",
    "subplot.plot(x, f_prime_approx, color='blue', linewidth=2, label='f_prime_approx')\n",
    "subplot.plot(x, f_prime_vectorize(x), color='red', linewidth=2, label='f_prime')\n",
    "plt.legend()\n",
    "plt.show()"
   ]
  }
 ],
 "metadata": {
  "kernelspec": {
   "display_name": "Python 3",
   "language": "python",
   "name": "python3"
  },
  "language_info": {
   "codemirror_mode": {
    "name": "ipython",
    "version": 3
   },
   "file_extension": ".py",
   "mimetype": "text/x-python",
   "name": "python",
   "nbconvert_exporter": "python",
   "pygments_lexer": "ipython3",
   "version": "3.6.5"
  }
 },
 "nbformat": 4,
 "nbformat_minor": 2
}
