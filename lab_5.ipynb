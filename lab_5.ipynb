{
 "cells": [
  {
   "cell_type": "code",
   "execution_count": null,
   "metadata": {},
   "outputs": [],
   "source": [
    "!python -m pip install -r requirements.txt"
   ]
  },
  {
   "cell_type": "code",
   "execution_count": null,
   "metadata": {},
   "outputs": [],
   "source": [
    "from sys import float_info\n",
    "\n",
    "import numpy as np\n",
    "\n",
    "def gaussian_func(x: np.ndarray, theta: float, mu: float, sigma: float):\n",
    "    return theta * np.exp(-np.power((x - mu) / sigma, 2) / 2.0)\n",
    "\n",
    "def approx_func(x: np.ndarray, theta: np.ndarray, mu: np.ndarray,\n",
    "        sigma: np.ndarray):\n",
    "    k = len(theta)\n",
    "    assert k == len(mu) == len(sigma)\n",
    "    result = np.zeros(len(x))\n",
    "    for i in range(k):\n",
    "        result += gaussian_func(x, theta[i], mu[i], sigma[i])\n",
    "\n",
    "def func(params: nd.ndarray, *args) -> float:\n",
    "    theta, mu, sigma = np.split(params, 3)\n",
    "    assert len(theta) == len(mu) == len(sigma)\n",
    "    x, y = args\n",
    "    diff = y - approx_func(x, theta, mu, sigma)\n",
    "    return np.sum(np.power(diff, 2))\n",
    "\n",
    "def func_jac(params: nd.ndarray, *args) -> float:\n",
    "    theta, mu, sigma = np.split(params, 3)\n",
    "    k = len(theta)\n",
    "    assert k == len(mu) == len(sigma)\n",
    "    x, y = args\n",
    "    diff = y - approx_func(x, theta, mu, sigma)\n",
    "    result = np.full(3 * k, -2.0)\n",
    "    deriv_theta, deriv_mu, deriv_sigma = np.split(result, 3)\n",
    "    for i in range(k):\n",
    "        deriv_theta[i] *= np.sum(diff * gaussian_func(x, 1.0, mu[i], sigma[i]))\n",
    "        temp = diff * gaussian_func(x, theta[i], mu[i], sigma[i])\n",
    "        deriv_mu[i] *= np.sum(temp * (x - mu[i]) / np.power(sigma[i], 2))\n",
    "        deriv_mu[i] *= np.sum(\n",
    "            temp * np.power(x - mu[i], 2) / np.power(sigma[i], 3))\n",
    "    return result\n",
    "\"\"\"\n",
    "def func_hess(params: nd.ndarray, *args) -> float:\n",
    "    k = len(params) // 3\n",
    "    theta, mu, sigma = np.split(params, 3)\n",
    "    assert k == len(theta) == len(mu) == len(sigma)\n",
    "    x, y = args\n",
    "    delta = y - gaussian_func(x, k, theta, mu, sigma)\n",
    "    return np.sum(np.power(delta))\n",
    "\"\"\"\n",
    "def lsq_gaussian(x: np.ndarray, y: np.ndarray, k: int, method: str,\n",
    "        epsilon: float = 1E-7, max_iter: int = 100) -> np.ndarray:\n",
    "    if (not isinstance(x, np.ndarray) or not isinstance(y, np.ndarray)\n",
    "            or not isinstance(k, int) or not isinstance(method, str)\n",
    "            or not isinstance(epsilon, float) or not isinstance(max_iter, int)):\n",
    "        raise TypeError()\n",
    "    n = len(x)\n",
    "    if (len(x.shape) != 1 or n < 2 or x.shape != y.shape or k < 1\n",
    "            or epsilon < float_info.epsilon or or max_iter < 1):\n",
    "        raise ValueError()\n",
    "    x0 = np.full(3 * k, 1.0)\n",
    "    result = minimize(fun=func, x0=x0, args=(x, y),\n",
    "        method=method, jac=func_jac, tol=epsilon) # hess=func_hess, options={'maxiter': max_iter})\n",
    "    return result"
   ]
  },
  {
   "cell_type": "code",
   "execution_count": null,
   "metadata": {},
   "outputs": [],
   "source": [
    "from math import cos, sin\n",
    "\n",
    "def f(x: float) -> float:\n",
    "    return 1.0 + 1.5 * x + 2.0 * cos(3.0 * x) + 3.0 * sin(7.0 * x)\n",
    "\n",
    "start, stop = 0.0, 4.0\n",
    "x = np.linspace(start, stop, 100)\n",
    "f_vectorize = np.vectorize(f)\n",
    "y = f_vectorize(x)"
   ]
  },
  {
   "cell_type": "code",
   "execution_count": null,
   "metadata": {},
   "outputs": [],
   "source": [
    "import matplotlib.pyplot as plt\n",
    "\n",
    "fig = plt.figure(figsize=(16, 9), dpi=400)\n",
    "subplot = fig.add_subplot(111, facecolor='#FFFFFF')\n",
    "subplot.plot(x, y, color='red', lw=2, label='y')\n",
    "plt.legend()\n",
    "plt.show()"
   ]
  },
  {
   "cell_type": "code",
   "execution_count": null,
   "metadata": {},
   "outputs": [],
   "source": [
    "from numpy.random import normal\n",
    "\n",
    "n = len(x)\n",
    "y_noise = y + normal(loc=0.0, scale=1.25, size=n)\n",
    "fig = plt.figure(figsize=(16, 9), dpi=400)\n",
    "subplot = fig.add_subplot(111, facecolor='#FFFFFF')\n",
    "subplot.plot(x, y_noise, 'Xr', label='y_noise')\n",
    "subplot.plot(x, y, color='green', lw=2, label='y')\n",
    "plt.legend()\n",
    "plt.show()"
   ]
  },
  {
   "cell_type": "code",
   "execution_count": null,
   "metadata": {},
   "outputs": [],
   "source": [
    "result = lsq_gaussian(x, y_noise, 4, 'Nelder-Mead')\n",
    "theta, nu, sigma = np.split(result.x, 3)\n",
    "approx = approx_func(x, theta, nu, sigma)\n",
    "\n",
    "fig = plt.figure(figsize=(16, 9), dpi=400)\n",
    "subplot = fig.add_subplot(111, facecolor='#FFFFFF')\n",
    "subplot.plot(x, y_noise, 'Xr', label='y_noise')\n",
    "subplot.plot(x, y, color='green', lw=2, label='y')\n",
    "subplot.plot(x, approx, color='blue', lw=2, label='approx')\n",
    "plt.legend()\n",
    "plt.show()"
   ]
  },
  {
   "cell_type": "code",
   "execution_count": null,
   "metadata": {},
   "outputs": [],
   "source": [
    "k = 8\n",
    "params = np.zeros(k * 3)\n",
    "step = (start - stop) / k\n",
    "for i in range(k):\n",
    "    params[i] = np.sum(x[i * k : k * (i + 1)]) / k\n",
    "    params[k + i] = start + (i + 0.5) * step\n",
    "params[2 * k : 3 * k] = step / 2\n",
    "params[1] *= -1\n",
    "\n",
    "theta = params[: k]\n",
    "mu = params[k : 2 * k]\n",
    "sigma = params[2 * k :]\n",
    "\n",
    "fig = plt.figure(figsize=(16, 9), dpi=400)\n",
    "subplot = fig.add_subplot(111, facecolor='#FFFFFF')\n",
    "subplot.plot(x, approx_func(x, k, theta, mu, sigma), 'Xr', label='approx')\n",
    "# subplot.plot(x, y, color='green', lw=2, label='y')\n",
    "plt.legend()\n",
    "plt.show()\n",
    "print(theta)\n",
    "print(mu)\n",
    "print(sigma)"
   ]
  }
 ],
 "metadata": {
  "kernelspec": {
   "display_name": "Python 3",
   "language": "python",
   "name": "python3"
  },
  "language_info": {
   "codemirror_mode": {
    "name": "ipython",
    "version": 3
   },
   "file_extension": ".py",
   "mimetype": "text/x-python",
   "name": "python",
   "nbconvert_exporter": "python",
   "pygments_lexer": "ipython3",
   "version": "3.6.5"
  }
 },
 "nbformat": 4,
 "nbformat_minor": 2
}
