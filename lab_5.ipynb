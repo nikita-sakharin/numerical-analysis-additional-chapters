{
 "cells": [
  {
   "cell_type": "code",
   "execution_count": 1,
   "metadata": {},
   "outputs": [
    {
     "name": "stdout",
     "output_type": "stream",
     "text": [
      "Defaulting to user installation because normal site-packages is not writeable\n",
      "Requirement already satisfied: wheel~=0.36.2 in c:\\program files (x86)\\microsoft visual studio\\shared\\anaconda3_64\\lib\\site-packages (from -r requirements.txt (line 1)) (0.36.2)\n",
      "Requirement already satisfied: numpy~=1.19.5 in c:\\program files (x86)\\microsoft visual studio\\shared\\anaconda3_64\\lib\\site-packages (from -r requirements.txt (line 2)) (1.19.5)\n",
      "Requirement already satisfied: matplotlib~=3.3.4 in c:\\program files (x86)\\microsoft visual studio\\shared\\anaconda3_64\\lib\\site-packages (from -r requirements.txt (line 3)) (3.3.4)\n",
      "Requirement already satisfied: scipy~=1.5.4 in c:\\users\\nikit\\appdata\\roaming\\python\\python36\\site-packages (from -r requirements.txt (line 4)) (1.5.4)\n",
      "Requirement already satisfied: pyparsing!=2.0.4,!=2.1.2,!=2.1.6,>=2.0.3 in c:\\program files (x86)\\microsoft visual studio\\shared\\anaconda3_64\\lib\\site-packages (from matplotlib~=3.3.4->-r requirements.txt (line 3)) (2.2.0)\n",
      "Requirement already satisfied: kiwisolver>=1.0.1 in c:\\program files (x86)\\microsoft visual studio\\shared\\anaconda3_64\\lib\\site-packages (from matplotlib~=3.3.4->-r requirements.txt (line 3)) (1.0.1)\n",
      "Requirement already satisfied: cycler>=0.10 in c:\\program files (x86)\\microsoft visual studio\\shared\\anaconda3_64\\lib\\site-packages (from matplotlib~=3.3.4->-r requirements.txt (line 3)) (0.10.0)\n",
      "Requirement already satisfied: pillow>=6.2.0 in c:\\program files (x86)\\microsoft visual studio\\shared\\anaconda3_64\\lib\\site-packages (from matplotlib~=3.3.4->-r requirements.txt (line 3)) (8.2.0)\n",
      "Requirement already satisfied: python-dateutil>=2.1 in c:\\program files (x86)\\microsoft visual studio\\shared\\anaconda3_64\\lib\\site-packages (from matplotlib~=3.3.4->-r requirements.txt (line 3)) (2.7.3)\n",
      "Requirement already satisfied: six in c:\\program files (x86)\\microsoft visual studio\\shared\\anaconda3_64\\lib\\site-packages (from cycler>=0.10->matplotlib~=3.3.4->-r requirements.txt (line 3)) (1.11.0)\n",
      "Requirement already satisfied: setuptools in c:\\program files (x86)\\microsoft visual studio\\shared\\anaconda3_64\\lib\\site-packages (from kiwisolver>=1.0.1->matplotlib~=3.3.4->-r requirements.txt (line 3)) (39.1.0)\n"
     ]
    },
    {
     "name": "stderr",
     "output_type": "stream",
     "text": [
      "WARNING: You are using pip version 21.0.1; however, version 21.1.1 is available.\n",
      "You should consider upgrading via the 'C:\\Program Files (x86)\\Microsoft Visual Studio\\Shared\\Anaconda3_64\\python.exe -m pip install --upgrade pip' command.\n"
     ]
    }
   ],
   "source": [
    "!python -m pip install -r requirements.txt"
   ]
  },
  {
   "cell_type": "code",
   "execution_count": 3,
   "metadata": {},
   "outputs": [
    {
     "ename": "NameError",
     "evalue": "name 'nd' is not defined",
     "output_type": "error",
     "traceback": [
      "\u001b[1;31m---------------------------------------------------------------------------\u001b[0m",
      "\u001b[1;31mNameError\u001b[0m                                 Traceback (most recent call last)",
      "\u001b[1;32m<ipython-input-3-b7ef4801b61c>\u001b[0m in \u001b[0;36m<module>\u001b[1;34m()\u001b[0m\n\u001b[0;32m     14\u001b[0m         \u001b[0mresult\u001b[0m \u001b[1;33m+=\u001b[0m \u001b[0mgaussian_func\u001b[0m\u001b[1;33m(\u001b[0m\u001b[0mx\u001b[0m\u001b[1;33m,\u001b[0m \u001b[0mtheta\u001b[0m\u001b[1;33m[\u001b[0m\u001b[0mi\u001b[0m\u001b[1;33m]\u001b[0m\u001b[1;33m,\u001b[0m \u001b[0mmu\u001b[0m\u001b[1;33m[\u001b[0m\u001b[0mi\u001b[0m\u001b[1;33m]\u001b[0m\u001b[1;33m,\u001b[0m \u001b[0msigma\u001b[0m\u001b[1;33m[\u001b[0m\u001b[0mi\u001b[0m\u001b[1;33m]\u001b[0m\u001b[1;33m)\u001b[0m\u001b[1;33m\u001b[0m\u001b[0m\n\u001b[0;32m     15\u001b[0m \u001b[1;33m\u001b[0m\u001b[0m\n\u001b[1;32m---> 16\u001b[1;33m \u001b[1;32mdef\u001b[0m \u001b[0mfunc\u001b[0m\u001b[1;33m(\u001b[0m\u001b[0mparams\u001b[0m\u001b[1;33m:\u001b[0m \u001b[0mnd\u001b[0m\u001b[1;33m.\u001b[0m\u001b[0mndarray\u001b[0m\u001b[1;33m,\u001b[0m \u001b[1;33m*\u001b[0m\u001b[0margs\u001b[0m\u001b[1;33m)\u001b[0m \u001b[1;33m->\u001b[0m \u001b[0mfloat\u001b[0m\u001b[1;33m:\u001b[0m\u001b[1;33m\u001b[0m\u001b[0m\n\u001b[0m\u001b[0;32m     17\u001b[0m     \u001b[0mtheta\u001b[0m\u001b[1;33m,\u001b[0m \u001b[0mmu\u001b[0m\u001b[1;33m,\u001b[0m \u001b[0msigma\u001b[0m \u001b[1;33m=\u001b[0m \u001b[0mnp\u001b[0m\u001b[1;33m.\u001b[0m\u001b[0msplit\u001b[0m\u001b[1;33m(\u001b[0m\u001b[0mparams\u001b[0m\u001b[1;33m,\u001b[0m \u001b[1;36m3\u001b[0m\u001b[1;33m)\u001b[0m\u001b[1;33m\u001b[0m\u001b[0m\n\u001b[0;32m     18\u001b[0m     \u001b[1;32massert\u001b[0m \u001b[0mlen\u001b[0m\u001b[1;33m(\u001b[0m\u001b[0mtheta\u001b[0m\u001b[1;33m)\u001b[0m \u001b[1;33m==\u001b[0m \u001b[0mlen\u001b[0m\u001b[1;33m(\u001b[0m\u001b[0mmu\u001b[0m\u001b[1;33m)\u001b[0m \u001b[1;33m==\u001b[0m \u001b[0mlen\u001b[0m\u001b[1;33m(\u001b[0m\u001b[0msigma\u001b[0m\u001b[1;33m)\u001b[0m\u001b[1;33m\u001b[0m\u001b[0m\n",
      "\u001b[1;31mNameError\u001b[0m: name 'nd' is not defined"
     ]
    }
   ],
   "source": [
    "from sys import float_info\n",
    "\n",
    "import numpy as np\n",
    "\n",
    "def gaussian_func(x: np.ndarray, theta: float, mu: float, sigma: float):\n",
    "    return theta * np.exp(-np.power((x - mu) / sigma, 2) / 2.0)\n",
    "\n",
    "def approx_func(x: np.ndarray, theta: np.ndarray, mu: np.ndarray,\n",
    "        sigma: np.ndarray):\n",
    "    k = len(theta)\n",
    "    assert k == len(mu) == len(sigma)\n",
    "    result = np.zeros(len(x))\n",
    "    for i in range(k):\n",
    "        result += gaussian_func(x, theta[i], mu[i], sigma[i])\n",
    "\n",
    "def func(params: np.ndarray, *args) -> float:\n",
    "    theta, mu, sigma = np.split(params, 3)\n",
    "    assert len(theta) == len(mu) == len(sigma)\n",
    "    x, y = args\n",
    "    diff = y - approx_func(x, theta, mu, sigma)\n",
    "    return np.sum(np.power(diff, 2))\n",
    "\n",
    "def func_jac(params: np.ndarray, *args) -> float:\n",
    "    theta, mu, sigma = np.split(params, 3)\n",
    "    k = len(theta)\n",
    "    assert k == len(mu) == len(sigma)\n",
    "    x, y = args\n",
    "    diff = y - approx_func(x, theta, mu, sigma)\n",
    "    result = np.full(3 * k, -2.0)\n",
    "    deriv_theta, deriv_mu, deriv_sigma = np.split(result, 3)\n",
    "    for i in range(k):\n",
    "        deriv_theta[i] *= np.sum(diff * gaussian_func(x, 1.0, mu[i], sigma[i]))\n",
    "        temp = diff * gaussian_func(x, theta[i], mu[i], sigma[i])\n",
    "        deriv_mu[i] *= np.sum(temp * (x - mu[i]) / np.power(sigma[i], 2))\n",
    "        deriv_mu[i] *= np.sum(\n",
    "            temp * np.power(x - mu[i], 2) / np.power(sigma[i], 3))\n",
    "    return result\n",
    "\"\"\"\n",
    "def func_hess(params: np.ndarray, *args) -> float:\n",
    "    k = len(params) // 3\n",
    "    theta, mu, sigma = np.split(params, 3)\n",
    "    assert k == len(theta) == len(mu) == len(sigma)\n",
    "    x, y = args\n",
    "    delta = y - gaussian_func(x, k, theta, mu, sigma)\n",
    "    return np.sum(np.power(delta))\n",
    "\"\"\"\n",
    "def lsq_gaussian(x: np.ndarray, y: np.ndarray, k: int, method: str,\n",
    "        epsilon: float = 1E-7, max_iter: int = 100) -> np.ndarray:\n",
    "    if (not isinstance(x, np.ndarray) or not isinstance(y, np.ndarray)\n",
    "            or not isinstance(k, int) or not isinstance(method, str)\n",
    "            or not isinstance(epsilon, float) or not isinstance(max_iter, int)):\n",
    "        raise TypeError()\n",
    "    n = len(x)\n",
    "    if (len(x.shape) != 1 or n < 2 or x.shape != y.shape or k < 1\n",
    "            or epsilon < float_info.epsilon or max_iter < 1):\n",
    "        raise ValueError()\n",
    "    x0 = np.full(3 * k, 1.0)\n",
    "    result = minimize(fun=func, x0=x0, args=(x, y),\n",
    "        method=method, jac=func_jac, tol=epsilon) # hess=func_hess, options={'maxiter': max_iter})\n",
    "    return result"
   ]
  },
  {
   "cell_type": "code",
   "execution_count": null,
   "metadata": {},
   "outputs": [],
   "source": [
    "from math import cos, sin\n",
    "\n",
    "def f(x: float) -> float:\n",
    "    return 1.0 + 1.5 * x + 2.0 * cos(3.0 * x) + 3.0 * sin(7.0 * x)\n",
    "\n",
    "start, stop = 0.0, 4.0\n",
    "x = np.linspace(start, stop, 100)\n",
    "f_vectorize = np.vectorize(f)\n",
    "y = f_vectorize(x)"
   ]
  },
  {
   "cell_type": "code",
   "execution_count": null,
   "metadata": {},
   "outputs": [],
   "source": [
    "import matplotlib.pyplot as plt\n",
    "\n",
    "fig = plt.figure(figsize=(16, 9), dpi=400)\n",
    "subplot = fig.add_subplot(111, facecolor='#FFFFFF')\n",
    "subplot.plot(x, y, color='red', lw=2, label='y')\n",
    "plt.legend()\n",
    "plt.show()"
   ]
  },
  {
   "cell_type": "code",
   "execution_count": null,
   "metadata": {},
   "outputs": [],
   "source": [
    "from numpy.random import normal\n",
    "\n",
    "n = len(x)\n",
    "y_noise = y + normal(loc=0.0, scale=1.25, size=n)\n",
    "fig = plt.figure(figsize=(16, 9), dpi=400)\n",
    "subplot = fig.add_subplot(111, facecolor='#FFFFFF')\n",
    "subplot.plot(x, y_noise, 'Xr', label='y_noise')\n",
    "subplot.plot(x, y, color='green', lw=2, label='y')\n",
    "plt.legend()\n",
    "plt.show()"
   ]
  },
  {
   "cell_type": "code",
   "execution_count": null,
   "metadata": {},
   "outputs": [],
   "source": [
    "result = lsq_gaussian(x, y_noise, 4, 'Nelder-Mead')\n",
    "theta, nu, sigma = np.split(result.x, 3)\n",
    "approx = approx_func(x, theta, nu, sigma)\n",
    "\n",
    "fig = plt.figure(figsize=(16, 9), dpi=400)\n",
    "subplot = fig.add_subplot(111, facecolor='#FFFFFF')\n",
    "subplot.plot(x, y_noise, 'Xr', label='y_noise')\n",
    "subplot.plot(x, y, color='green', lw=2, label='y')\n",
    "subplot.plot(x, approx, color='blue', lw=2, label='approx')\n",
    "plt.legend()\n",
    "plt.show()"
   ]
  },
  {
   "cell_type": "code",
   "execution_count": null,
   "metadata": {},
   "outputs": [],
   "source": [
    "k = 8\n",
    "params = np.zeros(k * 3)\n",
    "step = (start - stop) / k\n",
    "for i in range(k):\n",
    "    params[i] = np.sum(x[i * k : k * (i + 1)]) / k\n",
    "    params[k + i] = start + (i + 0.5) * step\n",
    "params[2 * k : 3 * k] = step / 2\n",
    "params[1] *= -1\n",
    "\n",
    "theta = params[: k]\n",
    "mu = params[k : 2 * k]\n",
    "sigma = params[2 * k :]\n",
    "\n",
    "fig = plt.figure(figsize=(16, 9), dpi=400)\n",
    "subplot = fig.add_subplot(111, facecolor='#FFFFFF')\n",
    "subplot.plot(x, approx_func(x, k, theta, mu, sigma), 'Xr', label='approx')\n",
    "# subplot.plot(x, y, color='green', lw=2, label='y')\n",
    "plt.legend()\n",
    "plt.show()\n",
    "print(theta)\n",
    "print(mu)\n",
    "print(sigma)"
   ]
  }
 ],
 "metadata": {
  "kernelspec": {
   "display_name": "Python 3",
   "language": "python",
   "name": "python3"
  },
  "language_info": {
   "codemirror_mode": {
    "name": "ipython",
    "version": 3
   },
   "file_extension": ".py",
   "mimetype": "text/x-python",
   "name": "python",
   "nbconvert_exporter": "python",
   "pygments_lexer": "ipython3",
   "version": "3.6.5"
  }
 },
 "nbformat": 4,
 "nbformat_minor": 2
}
