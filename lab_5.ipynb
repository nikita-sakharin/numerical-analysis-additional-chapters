{
 "cells": [
  {
   "cell_type": "code",
   "execution_count": null,
   "metadata": {},
   "outputs": [],
   "source": [
    "!python -m pip install -r requirements.txt"
   ]
  },
  {
   "cell_type": "code",
   "execution_count": null,
   "metadata": {},
   "outputs": [],
   "source": [
    "from sys import float_info\n",
    "\n",
    "import numpy as np\n",
    "\n",
    "def gaussian_func(x: np.ndarray, theta: float, mu: float, sigma: float):\n",
    "    return theta * np.exp(-np.power((x - mu) / sigma, 2) / 2.0)\n",
    "\n",
    "def approx_func(x: np.ndarray, theta: np.ndarray, mu: np.ndarray,\n",
    "        sigma: np.ndarray):\n",
    "    k = len(theta)\n",
    "    assert k == len(mu) == len(sigma)\n",
    "    result = np.zeros(len(x))\n",
    "    for i in range(k):\n",
    "        result += gaussian_func(x, theta[i], mu[i], sigma[i])\n",
    "\n",
    "def func(parameters: nd.ndarray, *args) -> float:\n",
    "    theta, mu, sigma = np.split(parameters, 3)\n",
    "    assert len(theta) == len(mu) == len(sigma)\n",
    "    x, y = args\n",
    "    diff = y - approx_func(x, theta, mu, sigma)\n",
    "    return np.sum(np.power(diff, 2))\n",
    "\n",
    "def func_jac(parameters: nd.ndarray, *args) -> float:\n",
    "    theta, mu, sigma = np.split(parameters, 3)\n",
    "    k = len(theta)\n",
    "    assert k == len(mu) == len(sigma)\n",
    "    x, y = args\n",
    "    diff = y - approx_func(x, theta, mu, sigma)\n",
    "    result = np.full(3 * k, -2.0)\n",
    "    deriv_theta, deriv_mu, deriv_sigma = np.split(result, 3)\n",
    "    for l in range(k):\n",
    "        deriv_theta[l] *= diff * gaussian_func(x, 1.0, mu[l], sigma[l])\n",
    "    return result\n",
    "\n",
    "def func_hess(parameters: nd.ndarray, *args) -> float:\n",
    "    k = len(parameters) // 3\n",
    "    theta, mu, sigma = np.split(parameters, 3)\n",
    "    assert k == len(theta) == len(mu) == len(sigma)\n",
    "    x, y = args\n",
    "    delta = y - gaussian_func(x, k, theta, mu, sigma)\n",
    "    return np.sum(np.power(delta))\n",
    "\n",
    "def lsq_gaussian(x: np.ndarray, y: np.ndarray, k: int,\n",
    "        epsilon: float = 1E-7, max_iter: int = 100) -> np.ndarray:\n",
    "    if (not isinstance(x, np.ndarray) or not isinstance(y, np.ndarray)\n",
    "            or not isinstance(k, int) or not isinstance(epsilon, float)\n",
    "            or not isinstance(max_iter, int)):\n",
    "        raise TypeError()\n",
    "    n = len(x)\n",
    "    if (len(x.shape) != 1 or n < 2 or x.shape != y.shape or k < 1\n",
    "            or epsilon < float_info.epsilon or or max_iter < 1):\n",
    "        raise ValueError()\n",
    "    result = minimize(fun=func, x0=x0, args=(x, y),\n",
    "        method='', tol=epsilon) # hess=func_hess, jac=func_jac, options={'maxiter': max_iter})\n",
    "    return result"
   ]
  },
  {
   "cell_type": "code",
   "execution_count": null,
   "metadata": {},
   "outputs": [],
   "source": [
    "from math import cos, sin\n",
    "\n",
    "def f(x: float) -> float:\n",
    "    return 1.0 + 1.5 * x + 2.0 * cos(3.0 * x) + 3.0 * sin(7.0 * x)\n",
    "\n",
    "start, stop = 0.0, 4.0\n",
    "x = np.linspace(start, stop, 100)\n",
    "f_vectorize = np.vectorize(f)\n",
    "y = f_vectorize(x)"
   ]
  },
  {
   "cell_type": "code",
   "execution_count": null,
   "metadata": {},
   "outputs": [],
   "source": [
    "import matplotlib.pyplot as plt\n",
    "\n",
    "fig = plt.figure(figsize=(16, 9), dpi=400)\n",
    "subplot = fig.add_subplot(111, facecolor='#FFFFFF')\n",
    "subplot.plot(x, y, color='red', lw=2, label='y')\n",
    "plt.legend()\n",
    "plt.show()"
   ]
  },
  {
   "cell_type": "code",
   "execution_count": null,
   "metadata": {},
   "outputs": [],
   "source": [
    "from numpy.random import normal\n",
    "\n",
    "n = len(x)\n",
    "y_noise = y + normal(loc=0.0, scale=1.25, size=n)\n",
    "fig = plt.figure(figsize=(16, 9), dpi=400)\n",
    "subplot = fig.add_subplot(111, facecolor='#FFFFFF')\n",
    "subplot.plot(x, y_noise, 'Xr', label='y_noise')\n",
    "subplot.plot(x, y, color='green', lw=2, label='y')\n",
    "plt.legend()\n",
    "plt.show()"
   ]
  },
  {
   "cell_type": "code",
   "execution_count": null,
   "metadata": {},
   "outputs": [],
   "source": [
    "k = 8\n",
    "parameters = np.zeros(k * 3)\n",
    "step = (start - stop) / k\n",
    "for i in range(k):\n",
    "    parameters[i] = np.sum(x[i * k : k * (i + 1)]) / k\n",
    "    parameters[k + i] = start + (i + 0.5) * step\n",
    "parameters[2 * k : 3 * k] = step / 2\n",
    "parameters[1] *= -1\n",
    "\n",
    "theta = parameters[: k]\n",
    "mu = parameters[k : 2 * k]\n",
    "sigma = parameters[2 * k :]\n",
    "\n",
    "fig = plt.figure(figsize=(16, 9), dpi=400)\n",
    "subplot = fig.add_subplot(111, facecolor='#FFFFFF')\n",
    "subplot.plot(x, approx_func(x, k, theta, mu, sigma), 'Xr', label='approx')\n",
    "# subplot.plot(x, y, color='green', lw=2, label='y')\n",
    "plt.legend()\n",
    "plt.show()\n",
    "print(theta)\n",
    "print(mu)\n",
    "print(sigma)"
   ]
  },
  {
   "cell_type": "code",
   "execution_count": null,
   "metadata": {},
   "outputs": [],
   "source": [
    "np.linalg.norm(np.array([3, 4]))\n",
    "np.power(np.array([3, 4]), 2)"
   ]
  }
 ],
 "metadata": {
  "kernelspec": {
   "display_name": "Python 3",
   "language": "python",
   "name": "python3"
  },
  "language_info": {
   "codemirror_mode": {
    "name": "ipython",
    "version": 3
   },
   "file_extension": ".py",
   "mimetype": "text/x-python",
   "name": "python",
   "nbconvert_exporter": "python",
   "pygments_lexer": "ipython3",
   "version": "3.6.5"
  }
 },
 "nbformat": 4,
 "nbformat_minor": 2
}
