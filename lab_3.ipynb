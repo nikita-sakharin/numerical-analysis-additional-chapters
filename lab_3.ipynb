{
 "cells": [
  {
   "cell_type": "code",
   "execution_count": 3,
   "metadata": {},
   "outputs": [
    {
     "name": "stdout",
     "output_type": "stream",
     "text": [
      "Requirement already satisfied: matplotlib in c:\\program files (x86)\\microsoft visual studio\\shared\\anaconda3_64\\lib\\site-packages (2.2.2)\n",
      "Requirement already satisfied: numpy in c:\\program files (x86)\\microsoft visual studio\\shared\\anaconda3_64\\lib\\site-packages (1.14.3)\n",
      "Requirement already satisfied: cycler>=0.10 in c:\\program files (x86)\\microsoft visual studio\\shared\\anaconda3_64\\lib\\site-packages (from matplotlib) (0.10.0)\n",
      "Requirement already satisfied: pyparsing!=2.0.4,!=2.1.2,!=2.1.6,>=2.0.1 in c:\\program files (x86)\\microsoft visual studio\\shared\\anaconda3_64\\lib\\site-packages (from matplotlib) (2.2.0)\n",
      "Requirement already satisfied: python-dateutil>=2.1 in c:\\program files (x86)\\microsoft visual studio\\shared\\anaconda3_64\\lib\\site-packages (from matplotlib) (2.7.3)\n",
      "Requirement already satisfied: pytz in c:\\program files (x86)\\microsoft visual studio\\shared\\anaconda3_64\\lib\\site-packages (from matplotlib) (2018.4)\n",
      "Requirement already satisfied: six>=1.10 in c:\\program files (x86)\\microsoft visual studio\\shared\\anaconda3_64\\lib\\site-packages (from matplotlib) (1.11.0)\n",
      "Requirement already satisfied: kiwisolver>=1.0.1 in c:\\program files (x86)\\microsoft visual studio\\shared\\anaconda3_64\\lib\\site-packages (from matplotlib) (1.0.1)\n",
      "Requirement already satisfied: setuptools in c:\\program files (x86)\\microsoft visual studio\\shared\\anaconda3_64\\lib\\site-packages (from kiwisolver>=1.0.1->matplotlib) (39.1.0)\n"
     ]
    },
    {
     "name": "stderr",
     "output_type": "stream",
     "text": [
      "You are using pip version 10.0.1, however version 21.0.1 is available.\n",
      "You should consider upgrading via the 'python -m pip install --upgrade pip' command.\n"
     ]
    }
   ],
   "source": [
    "!python -m pip install matplotlib numpy"
   ]
  },
  {
   "cell_type": "code",
   "execution_count": 4,
   "metadata": {},
   "outputs": [],
   "source": [
    "from sys import float_info\n",
    "\n",
    "import numpy as np\n",
    "from numpy.linalg import norm, pinv, solve\n",
    "\n",
    "def ordinary_least_squares(x: np.ndarray, y: np.ndarray, order: int,\n",
    "        robust: bool = False, delta: float = 1.0, epsilon: float = 1E-7,\n",
    "        max_iter: int = 100) -> np.ndarray:\n",
    "    if (not isinstance(x, np.ndarray) or not isinstance(y, np.ndarray)\n",
    "            or not isinstance(order, int) or not isinstance(robust, bool)\n",
    "            or not isinstance(delta, float) or not isinstance(epsilon, float)\n",
    "            or not isinstance(max_iter, int)):\n",
    "        raise TypeError()\n",
    "    if (len(x.shape) != 1 or x.shape != y.shape or order < 1\n",
    "            or delta < float_info.epsilon or epsilon < float_info.epsilon\n",
    "            or max_iter < 1):\n",
    "        raise ValueError()\n",
    "\n",
    "    m = order + 1\n",
    "    x_upper = np.vander(x, m, increasing=False)\n",
    "    left, right = x_upper.T @ x_upper, x_upper.T @ y\n",
    "    print('Condition number =', np.linalg.cond(left))\n",
    "\n",
    "    beta = solve(left, right)\n",
    "    if not robust:\n",
    "        return beta\n",
    "\n",
    "    for _ in range (max_iter):\n",
    "        np.fill_diagonal(w_upper, 1.0 / np.abs(beta))\n",
    "        next_beta = np.linalg.solve(left + alpha * w_upper, right)\n",
    "        error = norm(next_beta - beta, ord=2)\n",
    "        beta, next_beta = next_beta, beta\n",
    "        if (error < epsilon):\n",
    "            break\n",
    "    return beta"
   ]
  },
  {
   "cell_type": "code",
   "execution_count": null,
   "metadata": {},
   "outputs": [],
   "source": [
    "def f(x: float) -> float:\n",
    "    return x**2 / 5.0 - 3.0 * x + 5.0\n",
    "\n",
    "start, stop = -10, 10\n",
    "x = np.linspace(start, stop, 20)\n",
    "x_extended = np.linspace(start, stop, 2 ** 20)\n",
    "f_vectorize = np.vectorize(f)\n",
    "y = f_vectorize(x)"
   ]
  },
  {
   "cell_type": "code",
   "execution_count": null,
   "metadata": {},
   "outputs": [],
   "source": [
    "import matplotlib.pyplot as plt\n",
    "\n",
    "fig = plt.figure(figsize=(16, 9), dpi=400)\n",
    "subplot = fig.add_subplot(111, facecolor='#FFFFFF')\n",
    "subplot.plot(x, y, color='red', lw=2, label='y')\n",
    "plt.legend()\n",
    "plt.show()"
   ]
  },
  {
   "cell_type": "code",
   "execution_count": null,
   "metadata": {},
   "outputs": [],
   "source": [
    "from numpy.random import normal\n",
    "\n",
    "y_noise = y + normal(loc=0, scale=3.0, size=len(y))\n",
    "fig = plt.figure(figsize=(16, 9), dpi=400)\n",
    "subplot = fig.add_subplot(111, facecolor='#FFFFFF')\n",
    "subplot.plot(x, y_noise, 'Xr', label='y_noise')\n",
    "subplot.plot(x, y, color='green', lw=2, label='y')\n",
    "plt.legend()\n",
    "plt.show()"
   ]
  },
  {
   "cell_type": "code",
   "execution_count": null,
   "metadata": {},
   "outputs": [],
   "source": [
    "poly = ordinary_least_squares(x, y_noise, order=2, p=0, alpha=0.0)\n",
    "polyval = np.polyval(poly, x_extended)\n",
    "print(poly)\n",
    "\n",
    "fig = plt.figure(figsize=(16, 9), dpi=400)\n",
    "subplot = fig.add_subplot(111, facecolor='#FFFFFF')\n",
    "subplot.plot(x, y_noise, 'Xr', label='y_noise')\n",
    "subplot.plot(x, y, color='green', lw=2, label='y')\n",
    "subplot.plot(x_extended, polyval, color='blue', lw=2, label='polyval')\n",
    "plt.legend()\n",
    "plt.show()"
   ]
  },
  {
   "cell_type": "code",
   "execution_count": null,
   "metadata": {},
   "outputs": [],
   "source": [
    "poly = ordinary_least_squares(x, y_noise, order=4, p=0, alpha=0.0)\n",
    "polyval = np.polyval(poly, x_extended)\n",
    "print(poly)\n",
    "\n",
    "fig = plt.figure(figsize=(16, 9), dpi=400)\n",
    "subplot = fig.add_subplot(111, facecolor='#FFFFFF')\n",
    "subplot.plot(x, y_noise, 'Xr', label='y_noise')\n",
    "subplot.plot(x, y, color='green', lw=2, label='y')\n",
    "subplot.plot(x_extended, polyval, color='blue', lw=2, label='polyval')\n",
    "plt.legend()\n",
    "plt.show()"
   ]
  },
  {
   "cell_type": "code",
   "execution_count": null,
   "metadata": {},
   "outputs": [],
   "source": [
    "COLORS = ['blue', 'brown', 'cyan', 'gray', 'olive', 'orange', 'pink', 'purple']\n",
    "\n",
    "fig = plt.figure(figsize=(16, 9), dpi=400)\n",
    "subplot = fig.add_subplot(111, facecolor='#FFFFFF')\n",
    "subplot.plot(x, y_noise, 'Xr', label='y_noise')\n",
    "subplot.plot(x, y, color='green', lw=2, label='y')\n",
    "\n",
    "for i in range(len(COLORS)):\n",
    "    alpha = 2.0 ** (i - 6)\n",
    "    poly = ordinary_least_squares(x, y_noise, order=4, p=2, alpha=alpha)\n",
    "    polyval = np.polyval(poly, x_extended)\n",
    "    label = 'polyval: alpha = ' + str(alpha)\n",
    "    subplot.plot(x_extended, polyval, color=COLORS[i], lw=2, label=label)\n",
    "    print(poly)\n",
    "plt.legend()\n",
    "plt.show()"
   ]
  },
  {
   "cell_type": "code",
   "execution_count": null,
   "metadata": {},
   "outputs": [],
   "source": [
    "fig = plt.figure(figsize=(16, 9), dpi=400)\n",
    "subplot = fig.add_subplot(111, facecolor='#FFFFFF')\n",
    "subplot.plot(x, y_noise, 'Xr', label='y_noise')\n",
    "subplot.plot(x, y, color='green', lw=2, label='y')\n",
    "\n",
    "poly_prev = None\n",
    "index = 0\n",
    "for i in range(30):\n",
    "    rcond = 1.5 ** (i - 25)\n",
    "    poly = ordinary_least_squares_svd(x, y_noise, order=4, rcond=rcond)\n",
    "    if (poly == poly_prev).all():\n",
    "        continue\n",
    "    poly_prev = poly\n",
    "    polyval = np.polyval(poly, x_extended)\n",
    "    label = 'polyval: rcond = ' + str(rcond)\n",
    "    subplot.plot(x_extended, polyval, color=COLORS[index], lw=2, label=label)\n",
    "    index += 1\n",
    "    print(poly)\n",
    "plt.legend()\n",
    "plt.show()"
   ]
  }
 ],
 "metadata": {
  "kernelspec": {
   "display_name": "Python 3",
   "language": "python",
   "name": "python3"
  },
  "language_info": {
   "codemirror_mode": {
    "name": "ipython",
    "version": 3
   },
   "file_extension": ".py",
   "mimetype": "text/x-python",
   "name": "python",
   "nbconvert_exporter": "python",
   "pygments_lexer": "ipython3",
   "version": "3.6.5"
  }
 },
 "nbformat": 4,
 "nbformat_minor": 2
}
