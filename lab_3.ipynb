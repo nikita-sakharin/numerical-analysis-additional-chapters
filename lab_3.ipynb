{
 "cells": [
  {
   "cell_type": "code",
   "execution_count": null,
   "metadata": {},
   "outputs": [],
   "source": [
    "!python -m pip install matplotlib numpy"
   ]
  },
  {
   "cell_type": "code",
   "execution_count": null,
   "metadata": {},
   "outputs": [],
   "source": [
    "from sys import float_info\n",
    "\n",
    "import numpy as np\n",
    "from numpy.linalg import norm, solve\n",
    "\n",
    "def lsq_spline(x: np.ndarray, y: np.ndarray, knots: np.ndarray,\n",
    "        order: int = 3, robust: bool = False, delta: float = 1.0,\n",
    "        epsilon: float = 1E-7, max_iter: int = 100) -> np.ndarray:\n",
    "    if (not isinstance(x, np.ndarray) or not isinstance(y, np.ndarray)\n",
    "            or not isinstance(knots, np.ndarray) or not isinstance(order, int)\n",
    "            or not isinstance(robust, bool) or not isinstance(delta, float)\n",
    "            or not isinstance(epsilon, float) or not isinstance(max_iter, int)):\n",
    "        raise TypeError()\n",
    "    n, m, k = len(x), len(knots), order + 1\n",
    "    if (len(x.shape) != 1 or n < 2 or np.any(np.diff(x) <= 0)\n",
    "            or x.shape != y.shape or len(knots.shape) != 1 or m < 2\n",
    "            or np.any(np.diff(knots) <= 0) or n <= m or x[0] >= knots[0]\n",
    "            or x[-1] <= knots[-1] or order not in range(1, 5)\n",
    "            or delta < float_info.epsilon or epsilon < float_info.epsilon\n",
    "            or max_iter < 1):\n",
    "        raise ValueError()\n",
    "\n",
    "    x_upper = np.zeros((n, k + m))\n",
    "    x_upper[:, :k] = np.vander(x, k, increasing=True)\n",
    "    for j in range(m):\n",
    "        index = x > knots[j]\n",
    "        x_upper[index, k + j] += np.power(x[index] - knots[j], order)\n",
    "    left, right = x_upper.T @ x_upper, x_upper.T @ y\n",
    "    beta = solve(left, right)\n",
    "    if not robust:\n",
    "        return x_upper @ beta\n",
    "\n",
    "    for _ in range(max_iter):\n",
    "        x_upper_beta = x_upper @ beta\n",
    "        diff = x_upper_beta - y\n",
    "        cond = np.abs(diff) < delta\n",
    "        y = np.where(cond, y, x_upper_beta - np.sign(diff) * delta)\n",
    "        right = x_upper.T @ y\n",
    "        next_beta = solve(left, right)\n",
    "        error = norm(next_beta - beta, ord=2)\n",
    "        beta, next_beta = next_beta, beta\n",
    "        if (error < epsilon):\n",
    "            break\n",
    "    return x_upper @ beta"
   ]
  },
  {
   "cell_type": "code",
   "execution_count": null,
   "metadata": {},
   "outputs": [],
   "source": [
    "from math import erfc, sin, sqrt\n",
    "\n",
    "def f(x: float) -> float:\n",
    "    return x**2 * 5.0 / 7.0 - 5.0 * x + 5.0 + 11.0 * sin(x * 7.0 / 3.0)\n",
    "\n",
    "start, stop = -7.0, 17.0\n",
    "x = np.linspace(start, stop, 2 ** 10 + 1)\n",
    "f_vectorize = np.vectorize(f)\n",
    "y = f_vectorize(x)"
   ]
  },
  {
   "cell_type": "code",
   "execution_count": null,
   "metadata": {},
   "outputs": [],
   "source": [
    "import matplotlib.pyplot as plt\n",
    "\n",
    "fig = plt.figure(figsize=(16, 9), dpi=400)\n",
    "subplot = fig.add_subplot(111, facecolor='#FFFFFF')\n",
    "subplot.plot(x, y, color='red', lw=2, label='y')\n",
    "plt.legend()\n",
    "plt.show()"
   ]
  },
  {
   "cell_type": "code",
   "execution_count": null,
   "metadata": {},
   "outputs": [],
   "source": [
    "from numpy.random import choice, normal\n",
    "\n",
    "n = len(x)\n",
    "y_noise = y + normal(loc=0.0, scale=1.0, size=n)\n",
    "fig = plt.figure(figsize=(16, 9), dpi=400)\n",
    "subplot = fig.add_subplot(111, facecolor='#FFFFFF')\n",
    "subplot.plot(x, y_noise, 'Xr', label='y_noise')\n",
    "subplot.plot(x, y, color='green', lw=2, label='y')\n",
    "plt.legend()\n",
    "plt.show()"
   ]
  },
  {
   "cell_type": "code",
   "execution_count": null,
   "metadata": {},
   "outputs": [],
   "source": [
    "m = 30\n",
    "knots = np.linspace(start, stop, m + 2)[1:-1]\n",
    "assert len(knots) == m"
   ]
  },
  {
   "cell_type": "code",
   "execution_count": null,
   "metadata": {},
   "outputs": [],
   "source": [
    "spline = lsq_spline(x, y_noise, knots)\n",
    "\n",
    "fig = plt.figure(figsize=(16, 9), dpi=400)\n",
    "subplot = fig.add_subplot(111, facecolor='#FFFFFF')\n",
    "subplot.plot(x, y_noise, 'Xr', label='y_noise')\n",
    "subplot.plot(x, y, color='green', lw=2, label='y')\n",
    "subplot.plot(x, spline, color='blue', lw=2, label='spline')\n",
    "plt.legend()\n",
    "plt.show()"
   ]
  },
  {
   "cell_type": "code",
   "execution_count": null,
   "metadata": {},
   "outputs": [],
   "source": [
    "p = erfc(sqrt(2))\n",
    "typical = normal(loc=0.0, scale=1.0, size=n)\n",
    "outlier = normal(loc=0.0, scale=100.0, size=n)\n",
    "cond = choice([False, True], size=n, p=[p, 1.0 - p])\n",
    "y_noise = y + np.where(cond, typical, outlier)\n",
    "fig = plt.figure(figsize=(16, 9), dpi=400)\n",
    "subplot = fig.add_subplot(111, facecolor='#FFFFFF')\n",
    "subplot.plot(x, y_noise, 'Xr', label='y_noise')\n",
    "subplot.plot(x, y, color='green', lw=2, label='y')\n",
    "plt.legend()\n",
    "plt.show()"
   ]
  },
  {
   "cell_type": "code",
   "execution_count": null,
   "metadata": {},
   "outputs": [],
   "source": [
    "spline = lsq_spline(x, y_noise, knots)\n",
    "\n",
    "fig = plt.figure(figsize=(16, 9), dpi=400)\n",
    "subplot = fig.add_subplot(111, facecolor='#FFFFFF')\n",
    "subplot.plot(x, y_noise, 'Xr', label='y_noise')\n",
    "subplot.plot(x, y, color='green', lw=2, label='y')\n",
    "subplot.plot(x, spline, color='blue', lw=2, label='spline')\n",
    "plt.legend()\n",
    "plt.show()"
   ]
  },
  {
   "cell_type": "code",
   "execution_count": null,
   "metadata": {},
   "outputs": [],
   "source": [
    "spline = lsq_spline(x, y_noise, knots, robust=True, delta=15.0)\n",
    "\n",
    "fig = plt.figure(figsize=(16, 9), dpi=400)\n",
    "subplot = fig.add_subplot(111, facecolor='#FFFFFF')\n",
    "subplot.plot(x, y_noise, 'Xr', label='y_noise')\n",
    "subplot.plot(x, y, color='green', lw=2, label='y')\n",
    "subplot.plot(x, spline, color='blue', lw=2, label='spline')\n",
    "plt.legend()\n",
    "plt.show()"
   ]
  }
 ],
 "metadata": {
  "kernelspec": {
   "display_name": "Python 3",
   "language": "python",
   "name": "python3"
  },
  "language_info": {
   "codemirror_mode": {
    "name": "ipython",
    "version": 3
   },
   "file_extension": ".py",
   "mimetype": "text/x-python",
   "name": "python",
   "nbconvert_exporter": "python",
   "pygments_lexer": "ipython3",
   "version": "3.6.5"
  }
 },
 "nbformat": 4,
 "nbformat_minor": 2
}
