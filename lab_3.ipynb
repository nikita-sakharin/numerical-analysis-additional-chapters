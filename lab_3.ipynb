{
 "cells": [
  {
   "cell_type": "code",
   "execution_count": null,
   "metadata": {},
   "outputs": [],
   "source": [
    "!python -m pip install matplotlib numpy"
   ]
  },
  {
   "cell_type": "code",
   "execution_count": null,
   "metadata": {},
   "outputs": [],
   "source": [
    "from math import cos, erfc, pow, sin, sqrt\n",
    "from sys import float_info\n",
    "\n",
    "import numpy as np\n",
    "from numpy.linalg import norm, solve\n",
    "\n",
    "def lsq_spline(x: np.ndarray, y: np.ndarray, knots: np.ndarray,\n",
    "        order: int = 3, robust: bool = False, delta: float = 1.0,\n",
    "        epsilon: float = 1E-7, max_iter: int = 100) -> np.ndarray:\n",
    "    if (not isinstance(x, np.ndarray) or not isinstance(y, np.ndarray)\n",
    "            or not isinstance(knots, np.ndarray) or not isinstance(order, int)\n",
    "            or not isinstance(robust, bool) or not isinstance(delta, float)\n",
    "            or not isinstance(epsilon, float) or not isinstance(max_iter, int)):\n",
    "        raise TypeError()\n",
    "    if (len(x.shape) != 1 or len(x) < 2 or np.any(np.diff(x) <= 0)\n",
    "            or x.shape != y.shape or len(knots.shape) != 1 or len(knots) < 2\n",
    "            or np.any(np.diff(knots) <= 0) # TODO x[0] >= knots[0] or knots[-1] >= x[-1]\n",
    "            or order < 1 or delta < float_info.epsilon\n",
    "            or epsilon < float_info.epsilon or max_iter < 1):\n",
    "        raise ValueError()\n",
    "\n",
    "    n, m = len(x), len(knots)\n",
    "    x_upper = np.zeros((n, m+nodes_num))\n",
    "    for j in range(order + 1):\n",
    "        for i in range(m):\n",
    "            if (x[j] > knots[i]):\n",
    "                Phi[j, i] += pow(x[i], j)\n",
    "    for j in range(n):\n",
    "        for i in range(m):\n",
    "            if (x[j] > knots[i]):\n",
    "                Phi[j, i] += pow(x[j] - knots[i], order)\n",
    "\n",
    "\n",
    "    x_upper = np.vander(x, m, increasing=False)\n",
    "    left, right = x_upper.T @ x_upper, x_upper.T @ y\n",
    "    beta = solve(left, right)\n",
    "    if not robust:\n",
    "        return beta\n",
    "\n",
    "    for _ in range(max_iter):\n",
    "        x_upper_beta = x_upper @ beta\n",
    "        diff = x_upper_beta - y\n",
    "        cond = np.abs(diff) < delta\n",
    "        y = np.where(cond, y, x_upper_beta - np.sign(diff) * delta)\n",
    "        right = x_upper.T @ y\n",
    "        next_beta = solve(left, right)\n",
    "        error = norm(next_beta - beta, ord=2)\n",
    "        beta, next_beta = next_beta, beta\n",
    "        if (error < epsilon):\n",
    "            break\n",
    "    return beta"
   ]
  },
  {
   "cell_type": "code",
   "execution_count": null,
   "metadata": {},
   "outputs": [],
   "source": [
    "def f(x: float) -> float:\n",
    "    return x**2 * 5.0 / 7.0 - 5.0 * x + 5.0 + 11.0 * sin(x * 7.0 / 3.0)\n",
    "\n",
    "start, stop = -7.0, 17.0\n",
    "x = np.linspace(start, stop, 2 ** 8 + 1)\n",
    "f_vectorize = np.vectorize(f)\n",
    "y = f_vectorize(x)"
   ]
  },
  {
   "cell_type": "code",
   "execution_count": null,
   "metadata": {},
   "outputs": [],
   "source": [
    "import matplotlib.pyplot as plt\n",
    "\n",
    "fig = plt.figure(figsize=(16, 9), dpi=400)\n",
    "subplot = fig.add_subplot(111, facecolor='#FFFFFF')\n",
    "subplot.plot(x, y, color='red', lw=2, label='y')\n",
    "plt.legend()\n",
    "plt.show()"
   ]
  },
  {
   "cell_type": "code",
   "execution_count": null,
   "metadata": {},
   "outputs": [],
   "source": [
    "from numpy.random import choice, normal\n",
    "\n",
    "n = len(x)\n",
    "y_noise = y + normal(loc=0.0, scale=1.0, size=n)\n",
    "fig = plt.figure(figsize=(16, 9), dpi=400)\n",
    "subplot = fig.add_subplot(111, facecolor='#FFFFFF')\n",
    "subplot.plot(x, y_noise, 'Xr', label='y_noise')\n",
    "subplot.plot(x, y, color='green', lw=2, label='y')\n",
    "plt.legend()\n",
    "plt.show()"
   ]
  },
  {
   "cell_type": "code",
   "execution_count": null,
   "metadata": {},
   "outputs": [],
   "source": []
  },
  {
   "cell_type": "code",
   "execution_count": null,
   "metadata": {},
   "outputs": [],
   "source": [
    "p = erfc(sqrt(2))\n",
    "typical = normal(loc=0.0, scale=1.0, size=n)\n",
    "outlier = normal(loc=0.0, scale=100.0, size=n)\n",
    "cond = choice([False, True], size=n, p=[p, 1.0 - p])\n",
    "y_noise = y + np.where(cond, typical, outlier)\n",
    "fig = plt.figure(figsize=(16, 9), dpi=400)\n",
    "subplot = fig.add_subplot(111, facecolor='#FFFFFF')\n",
    "subplot.plot(x, y_noise, 'Xr', label='y_noise')\n",
    "subplot.plot(x, y, color='green', lw=2, label='y')\n",
    "plt.legend()\n",
    "plt.show()"
   ]
  },
  {
   "cell_type": "code",
   "execution_count": null,
   "metadata": {},
   "outputs": [],
   "source": [
    "poly = ordinary_least_squares(x, y_noise, order=2)\n",
    "polyval = np.polyval(poly, x)\n",
    "print(poly)\n",
    "\n",
    "fig = plt.figure(figsize=(16, 9), dpi=400)\n",
    "subplot = fig.add_subplot(111, facecolor='#FFFFFF')\n",
    "subplot.plot(x, y_noise, 'Xr', label='y_noise')\n",
    "subplot.plot(x, y, color='green', lw=2, label='y')\n",
    "subplot.plot(x, polyval, color='blue', lw=2, label='polyval')\n",
    "plt.legend()\n",
    "plt.show()"
   ]
  },
  {
   "cell_type": "code",
   "execution_count": null,
   "metadata": {},
   "outputs": [],
   "source": [
    "poly = ordinary_least_squares(x, y_noise, order=2, robust=True, delta = 5.0)\n",
    "polyval = np.polyval(poly, x)\n",
    "print(poly)\n",
    "\n",
    "fig = plt.figure(figsize=(16, 9), dpi=400)\n",
    "subplot = fig.add_subplot(111, facecolor='#FFFFFF')\n",
    "subplot.plot(x, y_noise, 'Xr', label='y_noise')\n",
    "subplot.plot(x, y, color='green', lw=2, label='y')\n",
    "subplot.plot(x, polyval, color='blue', lw=2, label='polyval')\n",
    "plt.legend()\n",
    "plt.show()"
   ]
  },
  {
   "cell_type": "code",
   "execution_count": null,
   "metadata": {},
   "outputs": [],
   "source": []
  },
  {
   "cell_type": "code",
   "execution_count": null,
   "metadata": {},
   "outputs": [],
   "source": []
  },
  {
   "cell_type": "code",
   "execution_count": null,
   "metadata": {},
   "outputs": [],
   "source": []
  },
  {
   "cell_type": "code",
   "execution_count": null,
   "metadata": {},
   "outputs": [],
   "source": []
  },
  {
   "cell_type": "code",
   "execution_count": null,
   "metadata": {},
   "outputs": [],
   "source": [
    "import numpy as np\n",
    "import matplotlib.pyplot as plt\n",
    "from scipy.interpolate import UnivariateSpline\n",
    "\n",
    "start, end = -20, 20\n",
    "x = np.linspace(start, end, 2 ** 10 + 1)\n",
    "y = x + 5.0 * np.sin(x / 2.0) + 11.0 * np.sin(x / 5.0) + 0.1 * np.random.randn(len(x))\n",
    "fig = plt.figure(figsize=(16, 9), dpi=400)\n",
    "subplot = fig.add_subplot(111, facecolor='#FFFFFF')\n",
    "subplot.plot(x, y, 'ro', ms=5)\n",
    "\n",
    "spl = UnivariateSpline(x, y, k=4, s=500.0)\n",
    "xs = np.linspace(start, end, len(x) * 2)\n",
    "plt.plot(xs, spl(xs), 'g', lw=3)\n",
    "spl.get_knots()"
   ]
  }
 ],
 "metadata": {
  "kernelspec": {
   "display_name": "Python 3",
   "language": "python",
   "name": "python3"
  },
  "language_info": {
   "codemirror_mode": {
    "name": "ipython",
    "version": 3
   },
   "file_extension": ".py",
   "mimetype": "text/x-python",
   "name": "python",
   "nbconvert_exporter": "python",
   "pygments_lexer": "ipython3",
   "version": "3.6.5"
  }
 },
 "nbformat": 4,
 "nbformat_minor": 2
}
