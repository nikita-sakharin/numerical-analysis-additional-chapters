{
 "cells": [
  {
   "cell_type": "code",
   "execution_count": null,
   "metadata": {},
   "outputs": [],
   "source": [
    "!python -m pip install -r requirements.txt"
   ]
  },
  {
   "cell_type": "code",
   "execution_count": null,
   "metadata": {},
   "outputs": [],
   "source": [
    "class Interval:\n",
    "    def __init__(self, inf, sup=None):\n",
    "        if (not (isinstance(inf, float) or isinstance(inf, int)) or not (\n",
    "                isinstance(sup, float) or isinstance(sup, int) or sup is None)):\n",
    "            raise TypeError()\n",
    "        if sup is None:\n",
    "            sup = inf\n",
    "        if inf > sup:\n",
    "            raise ValueError()\n",
    "        self.inf, self.sup = float(inf), float(sup)\n",
    "\n",
    "    def __add__(self, other):\n",
    "        return Interval(self.inf + other.inf, self.sup + other.sup)\n",
    "\n",
    "    def __mul__(self, other):\n",
    "        args = (self.inf * other.inf, self.inf * other.sup,\n",
    "            self.sup * other.inf, self.sup * other.sup)\n",
    "        return Interval(min(args), max(args))\n",
    "\n",
    "    def __neg__(self):\n",
    "        return Interval(-self.sup, -self.inf)\n",
    "    \n",
    "    def __pos__(self):\n",
    "        return Interval(self.inf, self.sup)\n",
    "\n",
    "    def __repr__(self):\n",
    "        return F'Interval({self.inf}, {self.sup})'\n",
    "\n",
    "    def __str__(self):\n",
    "        return F'[{self.inf}, {self.sup}]'\n",
    "\n",
    "    def __sub__(self, other):\n",
    "        return Interval(self.inf - other.sup, self.sup - other.inf)\n",
    "\n",
    "    def __truediv__(self, other):\n",
    "        if other.inf <= 0.0 and other.sup >= 0.0:\n",
    "            raise ZeroDivisionError()\n",
    "        return self * Interval(1.0 / other.sup, 1.0 / other.inf)"
   ]
  },
  {
   "cell_type": "code",
   "execution_count": null,
   "metadata": {},
   "outputs": [],
   "source": [
    "import numpy as np\n",
    "\n",
    "def gaussian_elimination(a: np.ndarray, b: np.ndarray) -> np.ndarray:\n",
    "    if not isinstance(a, np.ndarray) or not isinstance(b, np.ndarray):\n",
    "        raise TypeError()\n",
    "    n = len(a)\n",
    "    if n < 1 or a.shape != (n, n) or b.shape != (n, ):\n",
    "        raise ValueError()\n",
    "    a, b = np.copy(a), np.copy(b)\n",
    "    for i in range(n):\n",
    "        i_max = i + np.argmax(np.abs(a[i :, i]))\n",
    "        if np.abs(a[i_max, i]) < np.finfo(float).eps:\n",
    "            raise ZeroDivisionError()\n",
    "        if i_max != i:\n",
    "            first, second = [i_max, i], [i, i_max]\n",
    "            a[first], b[first] = a[second], b[second]\n",
    "        for index in range(n):\n",
    "            if index == i:\n",
    "                continue\n",
    "            mu = -a[index, i] / a[i, i]\n",
    "            a[index, i:] += mu * a[i, i:]\n",
    "            b[index] += mu * b[i]\n",
    "    return b / np.diagonal(a)"
   ]
  },
  {
   "cell_type": "code",
   "execution_count": null,
   "metadata": {},
   "outputs": [],
   "source": [
    "from numpy.linalg import solve\n",
    "\n",
    "a, b = np.array([\n",
    "    [2.0, 7.0],\n",
    "    [3.0, 1.0]\n",
    "]), np.array([9.0, 6.0])\n",
    "o = solve(a, b)\n",
    "assert np.allclose(gaussian_elimination(a, b), o)"
   ]
  },
  {
   "cell_type": "code",
   "execution_count": null,
   "metadata": {},
   "outputs": [],
   "source": [
    "import matplotlib.pyplot as plt\n",
    "\n",
    "x = np.linspace(-10, 10, 2 ** 10 + 1)\n",
    "ab_line = (b[0] - x * a[0, 0]) / a[0, 1]\n",
    "cd_line = (b[1] - x * a[1, 0]) / a[1, 1]\n",
    "\n",
    "fig = plt.figure(figsize=(16, 9), dpi=400)\n",
    "subplot = fig.add_subplot(111, facecolor='white')\n",
    "subplot.plot(x, ab_line, color='green', lw=1, label='AB')\n",
    "subplot.plot(x, cd_line, color='blue', lw=1, label='CD')\n",
    "subplot.plot(o[0], o[1], 'Xr', lw=1, label='AB∩CD')\n",
    "plt.legend()\n",
    "plt.show()"
   ]
  },
  {
   "cell_type": "code",
   "execution_count": null,
   "metadata": {},
   "outputs": [],
   "source": [
    "interval_vectorize, epsilon = np.vectorize(Interval), Interval(0.0, 0.1)\n",
    "a_interval = interval_vectorize(a) + epsilon\n",
    "b_interval = interval_vectorize(b) + epsilon\n",
    "\n",
    "print(o)\n",
    "print('\\n')\n",
    "print(solve2(a_interval, b_interval))\n",
    "print(solve(a_interval, b_interval))"
   ]
  },
  {
   "cell_type": "code",
   "execution_count": null,
   "metadata": {},
   "outputs": [],
   "source": [
    "x = np.linspace(-10, 10, 2**10 + 1)\n",
    "ab_line = (b[0] - x * a[0, 0]) / a[0, 1]\n",
    "cd_line = (b[1] - x * a[1, 0]) / a[1, 1]\n",
    "\n",
    "fig = plt.figure(figsize=(16, 9), dpi=400)\n",
    "subplot = fig.add_subplot(111, facecolor='white')\n",
    "subplot.plot(x, ab_line, color='green', lw=7, label='AB')\n",
    "subplot.plot(x, cd_line, color='blue', lw=7, label='CD')\n",
    "plt.legend()\n",
    "plt.show()"
   ]
  },
  {
   "cell_type": "markdown",
   "metadata": {},
   "source": [
    "# Интервальное решение\n",
    "# Точное решение интервальной системы\n",
    "# Итерационные методы решения слау"
   ]
  },
  {
   "cell_type": "code",
   "execution_count": null,
   "metadata": {},
   "outputs": [],
   "source": [
    "ab = np.array([b[0] / a[0, 0], b[0] / a[0, 1])\n",
    "cd = np.array([b[1] / a[1, 0], b[1] / a[1, 1])\n",
    "t = np.linspace(-10, 10, 2**10 + 1)\n",
    "ab_line = o + t * ab\n",
    "cd_line = o + t * cd"
   ]
  }
 ],
 "metadata": {
  "kernelspec": {
   "display_name": "Python 3",
   "language": "python",
   "name": "python3"
  },
  "language_info": {
   "codemirror_mode": {
    "name": "ipython",
    "version": 3
   },
   "file_extension": ".py",
   "mimetype": "text/x-python",
   "name": "python",
   "nbconvert_exporter": "python",
   "pygments_lexer": "ipython3",
   "version": "3.6.5"
  }
 },
 "nbformat": 4,
 "nbformat_minor": 4
}
