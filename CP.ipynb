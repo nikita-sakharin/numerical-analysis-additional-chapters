{
 "cells": [
  {
   "cell_type": "code",
   "execution_count": null,
   "metadata": {},
   "outputs": [],
   "source": [
    "!python3 -m pip install -r requirements.txt pyinterval~=1.2.0"
   ]
  },
  {
   "cell_type": "code",
   "execution_count": null,
   "metadata": {},
   "outputs": [],
   "source": [
    "class my_interval:\n",
    "    def __init__(self, a, b):\n",
    "        if not isinstance(a, float) or not isinstance(b, float):\n",
    "            raise TypeError()\n",
    "        self.a, self.b = a, b\n",
    "\n",
    "    def __add__(other):\n",
    "        return my_interval(self.a + other.a, self.b + other.b)\n",
    "\n",
    "    def __sub__(other):\n",
    "        return my_interval(self.a - other.b, self.b - other.a)\n",
    "\n",
    "    def __repr__(self):\n",
    "        return F'interval({self.a}, {self.b})'\n",
    "\n",
    "    def __str__(self):\n",
    "        return self.repr()"
   ]
  },
  {
   "cell_type": "code",
   "execution_count": null,
   "metadata": {},
   "outputs": [],
   "source": [
    "import numpy as np\n",
    "from numpy.linalg import solve\n",
    "from interval import interval"
   ]
  },
  {
   "cell_type": "code",
   "execution_count": null,
   "metadata": {},
   "outputs": [],
   "source": [
    "def solve2(a, b):\n",
    "    det = a[0][0] * a[1][1] - a[0][1] * a[1][0]\n",
    "    det1 = b[0] * a[1][1] - a[0][1] * b[1]\n",
    "    det2 = a[0][0] * b[1] - b[0] * a[1][0]\n",
    "    return np.array([det1 / det, det2 / det])"
   ]
  },
  {
   "cell_type": "code",
   "execution_count": null,
   "metadata": {},
   "outputs": [],
   "source": [
    "a = np.array([\n",
    "    [3.0, 1.0],\n",
    "    [2.0, 7.0]\n",
    "])\n",
    "b = np.array([6.0, 9.0])"
   ]
  },
  {
   "cell_type": "code",
   "execution_count": null,
   "metadata": {},
   "outputs": [],
   "source": [
    "o = solve2(a, b)\n",
    "assert np.allclose(solve(a, b), o)\n",
    "o"
   ]
  },
  {
   "cell_type": "code",
   "execution_count": null,
   "metadata": {},
   "outputs": [],
   "source": [
    "import matplotlib.pyplot as plt\n",
    "\n",
    "x = np.linspace(-10, 10, 2**10 + 1)\n",
    "ab_line = (b[0] - x * a[0, 0]) / a[0, 1]\n",
    "cd_line = (b[1] - x * a[1, 0]) / a[1, 1]\n",
    "\n",
    "fig = plt.figure(figsize=(16, 9), dpi=400)\n",
    "subplot = fig.add_subplot(111, facecolor='#FFFFFF')\n",
    "subplot.plot(x, ab_line, color='green', lw=1, label='AB')\n",
    "subplot.plot(x, cd_line, color='blue', lw=1, label='CD')\n",
    "subplot.plot(o[0], o[1], 'Xr', lw=1, label='AB∩CD')\n",
    "plt.legend()\n",
    "plt.show()"
   ]
  },
  {
   "cell_type": "code",
   "execution_count": null,
   "metadata": {},
   "outputs": [],
   "source": [
    "epsilon = 0.1\n",
    "a_interval = np.array([\n",
    "    [interval(a[0, 0], a[0, 0] + epsilon), interval(a[0, 1], a[0, 1] + epsilon)],\n",
    "    [interval(a[1, 0], a[1, 0] + epsilon), interval(a[1, 1], a[1, 1] + epsilon)],\n",
    "])\n",
    "b_interval = np.array([interval(b[0], b[0] + epsilon), interval(b[1], b[1] + epsilon)])\n",
    "\n",
    "print(o)\n",
    "print('\\n')\n",
    "print(solve2(a_interval, b_interval))"
   ]
  },
  {
   "cell_type": "code",
   "execution_count": null,
   "metadata": {},
   "outputs": [],
   "source": [
    "x = np.linspace(-10, 10, 2**10 + 1)\n",
    "ab_line = (b[0] - x * a[0, 0]) / a[0, 1]\n",
    "cd_line = (b[1] - x * a[1, 0]) / a[1, 1]\n",
    "\n",
    "fig = plt.figure(figsize=(16, 9), dpi=400)\n",
    "subplot = fig.add_subplot(111, facecolor='#FFFFFF')\n",
    "subplot.plot(x, ab_line, color='green', lw=7, label='AB')\n",
    "subplot.plot(x, cd_line, color='blue', lw=7, label='CD')\n",
    "plt.legend()\n",
    "plt.show()"
   ]
  },
  {
   "cell_type": "markdown",
   "metadata": {},
   "source": [
    "# Интервальное решение\n",
    "# Точное решение интервальной системы\n",
    "# Итерационные методы решения слау"
   ]
  },
  {
   "cell_type": "code",
   "execution_count": null,
   "metadata": {},
   "outputs": [],
   "source": [
    "ab = np.array([b[0] / a[0, 0], b[0] / a[0, 1])\n",
    "cd = np.array([b[1] / a[1, 0], b[1] / a[1, 1])\n",
    "t = np.linspace(-10, 10, 2**10 + 1)\n",
    "ab_line = o + t * ab\n",
    "cd_line = o + t * cd"
   ]
  }
 ],
 "metadata": {
  "kernelspec": {
   "display_name": "Python 3",
   "language": "python",
   "name": "python3"
  },
  "language_info": {
   "codemirror_mode": {
    "name": "ipython",
    "version": 3
   },
   "file_extension": ".py",
   "mimetype": "text/x-python",
   "name": "python",
   "nbconvert_exporter": "python",
   "pygments_lexer": "ipython3",
   "version": "3.6.5"
  }
 },
 "nbformat": 4,
 "nbformat_minor": 4
}
