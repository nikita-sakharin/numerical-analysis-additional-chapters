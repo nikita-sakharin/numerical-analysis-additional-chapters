{
 "cells": [
  {
   "cell_type": "code",
   "execution_count": null,
   "metadata": {},
   "outputs": [],
   "source": [
    "!python -m pip install -r requirements.txt"
   ]
  },
  {
   "cell_type": "code",
   "execution_count": null,
   "metadata": {},
   "outputs": [],
   "source": [
    "from sys import float_info\n",
    "\n",
    "import numpy as np\n",
    "from numpy.linalg import norm, solve\n",
    "\n",
    "def ordinary_least_squares(x: np.ndarray, y: np.ndarray, order: int,\n",
    "        robust: bool = False, delta: float = 1.0, epsilon: float = 1E-7,\n",
    "        max_iter: int = 100) -> np.ndarray:\n",
    "    if (not isinstance(x, np.ndarray) or not isinstance(y, np.ndarray)\n",
    "            or not isinstance(order, int) or not isinstance(robust, bool)\n",
    "            or not isinstance(delta, float) or not isinstance(epsilon, float)\n",
    "            or not isinstance(max_iter, int)):\n",
    "        raise TypeError()\n",
    "    if (len(x.shape) != 1 or len(x) < 2 or x.shape != y.shape or order < 1\n",
    "            or delta < float_info.epsilon or epsilon < float_info.epsilon\n",
    "            or max_iter < 1):\n",
    "        raise ValueError()\n",
    "\n",
    "    m = order + 1\n",
    "    x_upper = np.vander(x, m, increasing=False)\n",
    "    left, right = x_upper.T @ x_upper, x_upper.T @ y\n",
    "    beta = solve(left, right)\n",
    "    if not robust:\n",
    "        return beta\n",
    "\n",
    "    for _ in range(max_iter):\n",
    "        x_upper_beta = x_upper @ beta\n",
    "        diff = x_upper_beta - y\n",
    "        cond = np.abs(diff) < delta\n",
    "        y = np.where(cond, y, x_upper_beta - np.sign(diff) * delta)\n",
    "        right = x_upper.T @ y\n",
    "        next_beta = solve(left, right)\n",
    "        error = norm(next_beta - beta, ord=2)\n",
    "        beta, next_beta = next_beta, beta\n",
    "        if (error < epsilon):\n",
    "            break\n",
    "    return beta"
   ]
  },
  {
   "cell_type": "code",
   "execution_count": null,
   "metadata": {},
   "outputs": [],
   "source": [
    "def f(x: float) -> float:\n",
    "    return x**2 / 5.0 - 3.0 * x + 5.0\n",
    "\n",
    "start, stop, n = 0.0, 20.0, 80\n",
    "x = np.linspace(start, stop, n)\n",
    "f_vectorize = np.vectorize(f)\n",
    "y = f_vectorize(x)"
   ]
  },
  {
   "cell_type": "code",
   "execution_count": null,
   "metadata": {},
   "outputs": [],
   "source": [
    "import matplotlib.pyplot as plt\n",
    "\n",
    "fig = plt.figure(figsize=(16, 9), dpi=400)\n",
    "subplot = fig.add_subplot(111, facecolor='white')\n",
    "subplot.plot(x, y, color='red', linewidth=2, label='y')\n",
    "plt.legend()\n",
    "plt.show()"
   ]
  },
  {
   "cell_type": "code",
   "execution_count": null,
   "metadata": {},
   "outputs": [],
   "source": [
    "from math import erfc, sqrt\n",
    "from numpy.random import choice, normal\n",
    "\n",
    "p = erfc(sqrt(2))\n",
    "typical = normal(loc=0.0, scale=1.0, size=n)\n",
    "outlier = normal(loc=0.0, scale=100.0, size=n)\n",
    "cond = choice([False, True], size=n, p=[p, 1.0 - p])\n",
    "y_noise = y + np.where(cond, typical, outlier)\n",
    "fig = plt.figure(figsize=(16, 9), dpi=400)\n",
    "subplot = fig.add_subplot(111, facecolor='white')\n",
    "subplot.plot(x, y_noise, 'Xr', label='y_noise')\n",
    "subplot.plot(x, y, color='green', linewidth=2, label='y')\n",
    "plt.legend()\n",
    "plt.show()"
   ]
  },
  {
   "cell_type": "code",
   "execution_count": null,
   "metadata": {},
   "outputs": [],
   "source": [
    "poly = ordinary_least_squares(x, y_noise, order=2)\n",
    "polyval = np.polyval(poly, x)\n",
    "print(poly)\n",
    "\n",
    "fig = plt.figure(figsize=(16, 9), dpi=400)\n",
    "subplot = fig.add_subplot(111, facecolor='white')\n",
    "subplot.plot(x, y_noise, 'Xr', label='y_noise')\n",
    "subplot.plot(x, y, color='green', linewidth=2, label='y')\n",
    "subplot.plot(x, polyval, color='blue', linewidth=2, label='polyval')\n",
    "plt.legend()\n",
    "plt.show()"
   ]
  },
  {
   "cell_type": "code",
   "execution_count": null,
   "metadata": {},
   "outputs": [],
   "source": [
    "poly = ordinary_least_squares(x, y_noise, order=2, robust=True, delta = 5.0)\n",
    "polyval = np.polyval(poly, x)\n",
    "print(poly)\n",
    "\n",
    "fig = plt.figure(figsize=(16, 9), dpi=400)\n",
    "subplot = fig.add_subplot(111, facecolor='white')\n",
    "subplot.plot(x, y_noise, 'Xr', label='y_noise')\n",
    "subplot.plot(x, y, color='green', linewidth=2, label='y')\n",
    "subplot.plot(x, polyval, color='blue', linewidth=2, label='polyval')\n",
    "plt.legend()\n",
    "plt.show()"
   ]
  }
 ],
 "metadata": {
  "kernelspec": {
   "display_name": "Python 3",
   "language": "python",
   "name": "python3"
  },
  "language_info": {
   "codemirror_mode": {
    "name": "ipython",
    "version": 3
   },
   "file_extension": ".py",
   "mimetype": "text/x-python",
   "name": "python",
   "nbconvert_exporter": "python",
   "pygments_lexer": "ipython3",
   "version": "3.6.5"
  }
 },
 "nbformat": 4,
 "nbformat_minor": 2
}
